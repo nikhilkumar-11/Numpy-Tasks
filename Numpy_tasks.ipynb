{
  "cells": [
    {
      "cell_type": "markdown",
      "metadata": {
        "id": "RbdADWvaB9Lv"
      },
      "source": [
        "# Numpy\n",
        "\n"
      ]
    },
    {
      "cell_type": "markdown",
      "metadata": {
        "id": "jnMwtsiNB9L5"
      },
      "source": [
        "#### 1. Import the numpy package under the name `np` (★☆☆) \n",
        "(**hint**: import … as …)"
      ]
    },
    {
      "cell_type": "code",
      "execution_count": null,
      "metadata": {
        "collapsed": true,
        "id": "TfBc-1QPB9L6"
      },
      "outputs": [],
      "source": [
        "import numpy as np"
      ]
    },
    {
      "cell_type": "markdown",
      "metadata": {
        "id": "GSIEIWSNB9L7"
      },
      "source": [
        "#### 2. Print the numpy version and the configuration (★☆☆) \n",
        "(**hint**: np.\\_\\_version\\_\\_, np.show\\_config)"
      ]
    },
    {
      "cell_type": "code",
      "execution_count": null,
      "metadata": {
        "id": "gCG-TuQ0B9L8",
        "outputId": "15b5b5f4-e93d-4556-eb6c-69264ac47c8e",
        "colab": {
          "base_uri": "https://localhost:8080/"
        }
      },
      "outputs": [
        {
          "output_type": "stream",
          "name": "stdout",
          "text": [
            "1.19.5\n"
          ]
        }
      ],
      "source": [
        "print(np.version.version)"
      ]
    },
    {
      "cell_type": "markdown",
      "metadata": {
        "id": "3gPvt_PfB9L9"
      },
      "source": [
        "#### 3. Create a null vector of size 10 (★☆☆) \n",
        "(**hint**: np.zeros)"
      ]
    },
    {
      "cell_type": "code",
      "execution_count": null,
      "metadata": {
        "id": "DANwcVuCB9L9",
        "outputId": "73fc27ea-7be6-4d28-e000-3a4d2705cd9c",
        "colab": {
          "base_uri": "https://localhost:8080/"
        }
      },
      "outputs": [
        {
          "output_type": "stream",
          "name": "stdout",
          "text": [
            "[0. 0. 0. 0. 0. 0. 0. 0. 0. 0.]\n"
          ]
        }
      ],
      "source": [
        "a=np.zeros(10)\n",
        "print(a)"
      ]
    },
    {
      "cell_type": "markdown",
      "metadata": {
        "id": "csYp_5LWB9L-"
      },
      "source": [
        "#### 4.  How to find the memory size of any array (★☆☆) \n",
        "(**hint**: size, itemsize)"
      ]
    },
    {
      "cell_type": "code",
      "execution_count": null,
      "metadata": {
        "id": "rOB3XMnVB9L_",
        "outputId": "040441ec-84b6-4eac-8419-ed83a9f74e40",
        "colab": {
          "base_uri": "https://localhost:8080/"
        }
      },
      "outputs": [
        {
          "output_type": "stream",
          "name": "stdout",
          "text": [
            "20\n"
          ]
        }
      ],
      "source": [
        "b=np.ones(20)\n",
        "c=np.size(b)\n",
        "print(c)"
      ]
    },
    {
      "cell_type": "markdown",
      "metadata": {
        "id": "iyLgLgt7B9MA"
      },
      "source": [
        "#### 5.  How to get the documentation of the numpy add function from the command line? (★☆☆) \n",
        "(**hint**: np.info)"
      ]
    },
    {
      "cell_type": "code",
      "execution_count": null,
      "metadata": {
        "collapsed": true,
        "id": "CiYknijAB9MA",
        "colab": {
          "base_uri": "https://localhost:8080/"
        },
        "outputId": "30947c8a-6bf6-4506-e124-a6d32e7f9eef"
      },
      "outputs": [
        {
          "output_type": "stream",
          "name": "stdout",
          "text": [
            "None\n"
          ]
        }
      ],
      "source": [
        "c=5+np.arange(20)\n",
        "a=np.info(np.add(b,c))\n",
        "print(a)"
      ]
    },
    {
      "cell_type": "markdown",
      "metadata": {
        "id": "nS49zBGBB9MB"
      },
      "source": [
        "#### 6.  Create a null vector of size 10 but the fifth value which is 1 (★☆☆) \n",
        "(**hint**: array\\[4\\])"
      ]
    },
    {
      "cell_type": "code",
      "execution_count": null,
      "metadata": {
        "id": "4ztIw0LDB9MC",
        "outputId": "8feba0d9-b114-47ce-bf61-121af9a49d42",
        "colab": {
          "base_uri": "https://localhost:8080/"
        }
      },
      "outputs": [
        {
          "output_type": "stream",
          "name": "stdout",
          "text": [
            "[0. 0. 0. 0. 1. 0. 0. 0. 0. 0.]\n"
          ]
        }
      ],
      "source": [
        "c=np.zeros(10)\n",
        "c[4]=1\n",
        "print(c)"
      ]
    },
    {
      "cell_type": "markdown",
      "metadata": {
        "id": "gOse4_cHB9MC"
      },
      "source": [
        "#### 7.  Create a vector with values ranging from 10 to 49 (★☆☆) \n",
        "(**hint**: np.arange)"
      ]
    },
    {
      "cell_type": "code",
      "execution_count": null,
      "metadata": {
        "id": "TxMPDXNJB9ME",
        "outputId": "a7d98b08-c127-47ab-b205-38b85adbffcb",
        "colab": {
          "base_uri": "https://localhost:8080/"
        }
      },
      "outputs": [
        {
          "output_type": "stream",
          "name": "stdout",
          "text": [
            "[10 11 12 13 14 15 16 17 18 19 20 21 22 23 24 25 26 27 28 29 30 31 32 33\n",
            " 34 35 36 37 38 39 40 41 42 43 44 45 46 47 48 49]\n"
          ]
        }
      ],
      "source": [
        "d=10+np.arange(40)\n",
        "print(d)"
      ]
    },
    {
      "cell_type": "markdown",
      "metadata": {
        "id": "s3CCXP51B9MF"
      },
      "source": [
        "#### 8.  Reverse a vector (first element becomes last) (★☆☆) \n",
        "(**hint**: array\\[::-1\\])"
      ]
    },
    {
      "cell_type": "code",
      "execution_count": null,
      "metadata": {
        "id": "ED_BLAgJB9MF",
        "outputId": "5d9d7d37-6433-4fea-86ec-ec4c309bd580",
        "colab": {
          "base_uri": "https://localhost:8080/"
        }
      },
      "outputs": [
        {
          "output_type": "stream",
          "name": "stdout",
          "text": [
            "[9 8 7 6 5 4 3 2 1 0]\n"
          ]
        }
      ],
      "source": [
        "e=np.arange(10)\n",
        "print(e[::-1])"
      ]
    },
    {
      "cell_type": "markdown",
      "metadata": {
        "id": "PvDM2YLXB9MG"
      },
      "source": [
        "#### 9.  Create a 3x3 matrix with values ranging from 0 to 8 (★☆☆) \n",
        "(**hint**: reshape)"
      ]
    },
    {
      "cell_type": "code",
      "execution_count": null,
      "metadata": {
        "id": "oGD7Mqi4B9MG",
        "outputId": "054545b2-3e51-4f0c-bf97-9e546bf271e3",
        "colab": {
          "base_uri": "https://localhost:8080/"
        }
      },
      "outputs": [
        {
          "output_type": "stream",
          "name": "stdout",
          "text": [
            "[[0 1 2]\n",
            " [3 4 5]\n",
            " [6 7 8]]\n"
          ]
        }
      ],
      "source": [
        "f=np.arange(9).reshape(3,3)\n",
        "print(f)"
      ]
    },
    {
      "cell_type": "markdown",
      "metadata": {
        "id": "riBcockuB9MH"
      },
      "source": [
        "#### 10. Find indices of non-zero elements from \\[1,2,0,0,4,0\\] (★☆☆) \n",
        "(**hint**: np.nonzero)"
      ]
    },
    {
      "cell_type": "code",
      "execution_count": null,
      "metadata": {
        "id": "D90wAzTDB9MH",
        "outputId": "5a1b7188-d069-446e-a8e5-d971617ecbb6",
        "colab": {
          "base_uri": "https://localhost:8080/"
        }
      },
      "outputs": [
        {
          "output_type": "stream",
          "name": "stdout",
          "text": [
            "(array([0, 1, 4]),)\n"
          ]
        }
      ],
      "source": [
        "d=[1,2,0,0,4,0]\n",
        "e=np.nonzero(d)\n",
        "print(e)"
      ]
    },
    {
      "cell_type": "markdown",
      "metadata": {
        "id": "r2hrTwwTB9MI"
      },
      "source": [
        "#### 11. Create a 3x3 identity matrix (★☆☆) \n",
        "(**hint**: np.eye)"
      ]
    },
    {
      "cell_type": "code",
      "execution_count": null,
      "metadata": {
        "id": "cDtnKus2B9MI",
        "outputId": "e06f12c8-2901-4b27-9c04-4b8249923052",
        "colab": {
          "base_uri": "https://localhost:8080/"
        }
      },
      "outputs": [
        {
          "output_type": "stream",
          "name": "stdout",
          "text": [
            "[[1. 0. 0.]\n",
            " [0. 1. 0.]\n",
            " [0. 0. 1.]]\n"
          ]
        }
      ],
      "source": [
        "e=np.eye(3,3)\n",
        "print(e)"
      ]
    },
    {
      "cell_type": "markdown",
      "metadata": {
        "id": "cak4LRQIB9MI"
      },
      "source": [
        "#### 12. Create a 3x3x3 array with random values (★☆☆) \n",
        "(**hint**: np.random.random)"
      ]
    },
    {
      "cell_type": "code",
      "execution_count": null,
      "metadata": {
        "collapsed": true,
        "id": "DrrxPy8oB9MJ",
        "outputId": "97001ba9-63fa-4094-d43c-dfc0a58f0c7c",
        "colab": {
          "base_uri": "https://localhost:8080/"
        }
      },
      "outputs": [
        {
          "output_type": "stream",
          "name": "stdout",
          "text": [
            "[[[0.66694389 0.26214109 0.35878433]\n",
            "  [0.1511084  0.50401023 0.41517115]\n",
            "  [0.57471408 0.88346477 0.3351851 ]]\n",
            "\n",
            " [[0.96358592 0.26558469 0.39989534]\n",
            "  [0.58728308 0.30371215 0.50692184]\n",
            "  [0.06833462 0.4942845  0.48149784]]\n",
            "\n",
            " [[0.61231915 0.31692061 0.11173327]\n",
            "  [0.2622129  0.50208703 0.13919524]\n",
            "  [0.24395534 0.31090896 0.07385928]]]\n"
          ]
        }
      ],
      "source": [
        "f=np.random.random((3,3,3))\n",
        "print(f)"
      ]
    },
    {
      "cell_type": "markdown",
      "metadata": {
        "id": "teZbET6cB9MJ"
      },
      "source": [
        "#### 13. Create a 10x10 array with random values and find the minimum and maximum values (★☆☆) \n",
        "(**hint**: min, max)"
      ]
    },
    {
      "cell_type": "code",
      "execution_count": null,
      "metadata": {
        "id": "3aTWvi-yB9MJ",
        "outputId": "1c2d1951-83b7-4764-dd3c-c55cae6326f5",
        "colab": {
          "base_uri": "https://localhost:8080/"
        }
      },
      "outputs": [
        {
          "output_type": "stream",
          "name": "stdout",
          "text": [
            "0.04709127384171552 0.8084534263425159\n"
          ]
        }
      ],
      "source": [
        "f=np.random.random(10)\n",
        "g=f.min()\n",
        "h=f.max()\n",
        "print(g,h)"
      ]
    },
    {
      "cell_type": "markdown",
      "metadata": {
        "id": "k9Vh6qWRB9MJ"
      },
      "source": [
        "#### 14. Create a random vector of size 30 and find the mean value (★☆☆) \n",
        "(**hint**: mean)"
      ]
    },
    {
      "cell_type": "code",
      "execution_count": null,
      "metadata": {
        "id": "fHhPrBOhB9MK",
        "outputId": "d35f65b4-55b0-47f4-8a24-ca1e138b8977",
        "colab": {
          "base_uri": "https://localhost:8080/"
        }
      },
      "outputs": [
        {
          "output_type": "stream",
          "name": "stdout",
          "text": [
            "0.5723236372103059\n"
          ]
        }
      ],
      "source": [
        "g=np.random.random(30)\n",
        "h=np.mean(g)\n",
        "print(h)"
      ]
    },
    {
      "cell_type": "markdown",
      "metadata": {
        "id": "rXkYmfY8B9MK"
      },
      "source": [
        "#### 15. Create a 2d array with 1 on the border and 0 inside (★☆☆) \n",
        "(**hint**: array\\[1:-1, 1:-1\\])"
      ]
    },
    {
      "cell_type": "code",
      "execution_count": null,
      "metadata": {
        "id": "4hsQXX15B9ML",
        "outputId": "d0f980e9-ef56-4964-eb64-4a2ec05f8075",
        "colab": {
          "base_uri": "https://localhost:8080/"
        }
      },
      "outputs": [
        {
          "output_type": "stream",
          "name": "stdout",
          "text": [
            "[[1. 1. 1. 1. 1. 1. 1.]\n",
            " [1. 0. 0. 0. 0. 0. 1.]\n",
            " [1. 0. 0. 0. 0. 0. 1.]\n",
            " [1. 0. 0. 0. 0. 0. 1.]\n",
            " [1. 0. 0. 0. 0. 0. 1.]\n",
            " [1. 0. 0. 0. 0. 0. 1.]\n",
            " [1. 1. 1. 1. 1. 1. 1.]]\n"
          ]
        }
      ],
      "source": [
        "a=np.ones((7,7))\n",
        "a[1:-1,1:-1]=0\n",
        "print(a)"
      ]
    },
    {
      "cell_type": "markdown",
      "metadata": {
        "id": "d4dJer6YB9ML"
      },
      "source": [
        "#### 16. How to add a border (filled with 0's) around an existing array? (★☆☆) \n",
        "(**hint**: np.pad)"
      ]
    },
    {
      "cell_type": "code",
      "execution_count": null,
      "metadata": {
        "id": "bjZpxNTPB9ML",
        "outputId": "70ad4abc-2178-4e9d-a70e-5f86f61aaff1",
        "colab": {
          "base_uri": "https://localhost:8080/"
        }
      },
      "outputs": [
        {
          "output_type": "stream",
          "name": "stdout",
          "text": [
            "[[0. 0. 0. 0. 0. 0. 0. 0. 0.]\n",
            " [0. 1. 1. 1. 1. 1. 1. 1. 0.]\n",
            " [0. 1. 1. 1. 1. 1. 1. 1. 0.]\n",
            " [0. 1. 1. 1. 1. 1. 1. 1. 0.]\n",
            " [0. 1. 1. 1. 1. 1. 1. 1. 0.]\n",
            " [0. 1. 1. 1. 1. 1. 1. 1. 0.]\n",
            " [0. 1. 1. 1. 1. 1. 1. 1. 0.]\n",
            " [0. 1. 1. 1. 1. 1. 1. 1. 0.]\n",
            " [0. 0. 0. 0. 0. 0. 0. 0. 0.]]\n"
          ]
        }
      ],
      "source": [
        "a=np.ones((7,7))\n",
        "b=np.pad(a,pad_width=1,constant_values=0)\n",
        "print(b)"
      ]
    },
    {
      "cell_type": "markdown",
      "metadata": {
        "id": "Tr35QXbpB9ML"
      },
      "source": [
        "#### 17. What is the result of the following expression? (★☆☆) \n",
        "(**hint**: NaN = not a number, inf = infinity)"
      ]
    },
    {
      "cell_type": "markdown",
      "metadata": {
        "id": "WS3utwAfB9MM"
      },
      "source": [
        "```python\n",
        "0 * np.nan\n",
        "np.nan == np.nan\n",
        "np.inf > np.nan\n",
        "np.nan - np.nan\n",
        "0.3 == 3 * 0.1\n",
        "```"
      ]
    },
    {
      "cell_type": "code",
      "execution_count": null,
      "metadata": {
        "id": "kaC5AxmaB9MM",
        "colab": {
          "base_uri": "https://localhost:8080/"
        },
        "outputId": "6c95cc62-5a34-4397-e63d-fa8e95ee543b"
      },
      "outputs": [
        {
          "output_type": "stream",
          "name": "stdout",
          "text": [
            "nan\n",
            "False\n",
            "False\n",
            "nan\n",
            "False\n"
          ]
        }
      ],
      "source": [
        "a=0*np.nan\n",
        "print(a)\n",
        "b=(np.nan == np.nan)\n",
        "print(b)\n",
        "c=np.inf>np.nan\n",
        "print(c)\n",
        "d=np.nan-np.nan\n",
        "print(d)\n",
        "e= (0.3 == (3*0.1))\n",
        "print(e)"
      ]
    },
    {
      "cell_type": "markdown",
      "metadata": {
        "id": "_qcEkBYKB9MN"
      },
      "source": [
        "#### 18. Create a 5x5 matrix with values 1,2,3,4 just below the diagonal (★☆☆) \n",
        "(**hint**: np.diag)"
      ]
    },
    {
      "cell_type": "code",
      "execution_count": null,
      "metadata": {
        "id": "M-fScGM7B9MN",
        "outputId": "788350a0-4655-4c1d-a8fc-62693b17b75f",
        "colab": {
          "base_uri": "https://localhost:8080/"
        }
      },
      "outputs": [
        {
          "output_type": "stream",
          "name": "stdout",
          "text": [
            "[[0 0 0 0 0]\n",
            " [1 0 0 0 0]\n",
            " [0 2 0 0 0]\n",
            " [0 0 3 0 0]\n",
            " [0 0 0 4 0]]\n"
          ]
        }
      ],
      "source": [
        "a=np.diag(1+np.arange(4),k=-1)\n",
        "print(a)"
      ]
    },
    {
      "cell_type": "markdown",
      "metadata": {
        "id": "HZclpSxoB9MN"
      },
      "source": [
        "#### 19. Create a 8x8 matrix and fill it with a checkerboard pattern (★☆☆) \n",
        "(**hint**: array\\[::2\\])"
      ]
    },
    {
      "cell_type": "code",
      "execution_count": null,
      "metadata": {
        "id": "K0PtS09RB9MO",
        "outputId": "ce4739b2-f0d2-42da-c7ef-4765ebb0e501",
        "colab": {
          "base_uri": "https://localhost:8080/"
        }
      },
      "outputs": [
        {
          "output_type": "stream",
          "name": "stdout",
          "text": [
            "[[0. 1. 0. 1. 0. 1. 0. 1.]\n",
            " [1. 0. 1. 0. 1. 0. 1. 0.]\n",
            " [0. 1. 0. 1. 0. 1. 0. 1.]\n",
            " [1. 0. 1. 0. 1. 0. 1. 0.]\n",
            " [0. 1. 0. 1. 0. 1. 0. 1.]\n",
            " [1. 0. 1. 0. 1. 0. 1. 0.]\n",
            " [0. 1. 0. 1. 0. 1. 0. 1.]\n",
            " [1. 0. 1. 0. 1. 0. 1. 0.]]\n"
          ]
        }
      ],
      "source": [
        "a=np.zeros((8,8))\n",
        "a[1::2,::2]=1\n",
        "a[::2,1::2]=1\n",
        "print(a)"
      ]
    },
    {
      "cell_type": "markdown",
      "metadata": {
        "id": "WhrH3xCzB9MO"
      },
      "source": [
        "#### 20. Consider a (6,7,8) shape array, what is the index (x,y,z) of the 100th element? \n",
        "(**hint**: np.unravel_index)"
      ]
    },
    {
      "cell_type": "code",
      "execution_count": null,
      "metadata": {
        "id": "fjUEoLBPB9MO",
        "outputId": "f2c291a5-6cb9-40dc-f25a-004c1f69b2b4",
        "colab": {
          "base_uri": "https://localhost:8080/"
        }
      },
      "outputs": [
        {
          "output_type": "stream",
          "name": "stdout",
          "text": [
            "(1, 5, 4)\n"
          ]
        }
      ],
      "source": [
        "a=np.unravel_index(100,(6,7,8))\n",
        "print(a)"
      ]
    },
    {
      "cell_type": "markdown",
      "metadata": {
        "id": "WJemEcnjB9MO"
      },
      "source": [
        "#### 21. Create a checkerboard 8x8 matrix using the tile function (★☆☆) \n",
        "(**hint**: np.tile)"
      ]
    },
    {
      "cell_type": "code",
      "execution_count": null,
      "metadata": {
        "id": "tKW1iwE1B9MP",
        "outputId": "d3dc3e86-8b88-419b-e736-213f06e205a1",
        "colab": {
          "base_uri": "https://localhost:8080/"
        }
      },
      "outputs": [
        {
          "output_type": "stream",
          "name": "stdout",
          "text": [
            "[[0 1]\n",
            " [1 0]]\n",
            "[[0 1 0 1 0 1 0 1]\n",
            " [1 0 1 0 1 0 1 0]\n",
            " [0 1 0 1 0 1 0 1]\n",
            " [1 0 1 0 1 0 1 0]\n",
            " [0 1 0 1 0 1 0 1]\n",
            " [1 0 1 0 1 0 1 0]\n",
            " [0 1 0 1 0 1 0 1]\n",
            " [1 0 1 0 1 0 1 0]]\n"
          ]
        }
      ],
      "source": [
        "b=np.array([[0,1],[1,0]])\n",
        "print(b)\n",
        "c=np.tile(b,(4,4))\n",
        "print(c)"
      ]
    },
    {
      "cell_type": "markdown",
      "metadata": {
        "id": "6sQypbk_B9MP"
      },
      "source": [
        "#### 22. Normalize a 5x5 random matrix (★☆☆) \n",
        "(**hint**: (x - min) / (max - min))"
      ]
    },
    {
      "cell_type": "code",
      "execution_count": null,
      "metadata": {
        "id": "LdPpCiOuB9MP",
        "outputId": "cba5ba4c-7ce7-4783-e307-411bfc2bf84f",
        "colab": {
          "base_uri": "https://localhost:8080/"
        }
      },
      "outputs": [
        {
          "output_type": "stream",
          "name": "stdout",
          "text": [
            "0.022147778095630337\n"
          ]
        }
      ],
      "source": [
        "s=np.random.random((5,5))\n",
        "d=s.min()\n",
        "e=s.max()\n",
        "f=d/e\n",
        "print(f)"
      ]
    },
    {
      "cell_type": "markdown",
      "metadata": {
        "id": "PZ7JfecKB9MP"
      },
      "source": [
        "#### 23. Create a custom dtype that describes a color as four unsigned bytes (RGBA) (★☆☆) \n",
        "(**hint**: np.dtype)"
      ]
    },
    {
      "cell_type": "code",
      "execution_count": null,
      "metadata": {
        "id": "aCtDT1PFB9MQ",
        "colab": {
          "base_uri": "https://localhost:8080/"
        },
        "outputId": "6a8cbc24-2b51-4248-ce8d-6946dfeac5d2"
      },
      "outputs": [
        {
          "output_type": "stream",
          "name": "stderr",
          "text": [
            "/usr/local/lib/python3.7/dist-packages/ipykernel_launcher.py:1: FutureWarning: Passing (type, 1) or '1type' as a synonym of type is deprecated; in a future version of numpy, it will be understood as (type, (1,)) / '(1,)type'.\n",
            "  \"\"\"Entry point for launching an IPython kernel.\n"
          ]
        }
      ],
      "source": [
        "a=np.dtype([(\"r\", np.ubyte, 1),(\"g\", np.ubyte, 1),(\"b\", np.ubyte, 1),(\"a\", np.ubyte, 1)])"
      ]
    },
    {
      "cell_type": "markdown",
      "metadata": {
        "id": "RcXyAqHcB9MQ"
      },
      "source": [
        "#### 24. Multiply a 5x3 matrix by a 3x2 matrix (real matrix product) (★☆☆) \n",
        "(**hint**: np.dot | @)"
      ]
    },
    {
      "cell_type": "code",
      "execution_count": null,
      "metadata": {
        "id": "HpKTtvO7B9MQ",
        "colab": {
          "base_uri": "https://localhost:8080/"
        },
        "outputId": "bbbc118e-fffc-4b13-ca4a-46ef18404949"
      },
      "outputs": [
        {
          "output_type": "stream",
          "name": "stdout",
          "text": [
            "[[ 0  1  2]\n",
            " [ 3  4  5]\n",
            " [ 6  7  8]\n",
            " [ 9 10 11]\n",
            " [12 13 14]]\n",
            "[[0 1]\n",
            " [2 3]\n",
            " [4 5]]\n",
            "[[ 10  13]\n",
            " [ 28  40]\n",
            " [ 46  67]\n",
            " [ 64  94]\n",
            " [ 82 121]]\n"
          ]
        }
      ],
      "source": [
        "a=np.arange(15).reshape((5,3))\n",
        "print(a)\n",
        "c=np.arange(6).reshape((3,2))\n",
        "print(c)\n",
        "e=np.dot(a,c)\n",
        "print(e)"
      ]
    },
    {
      "cell_type": "markdown",
      "metadata": {
        "id": "OLTa5A8UB9MQ"
      },
      "source": [
        "#### 25. Given a 1D array, negate all elements which are between 3 and 8, in place. (★☆☆) \n",
        "(**hint**: >, <=)"
      ]
    },
    {
      "cell_type": "code",
      "execution_count": null,
      "metadata": {
        "id": "ZBM9wfd2B9MR",
        "colab": {
          "base_uri": "https://localhost:8080/"
        },
        "outputId": "5acdc777-9838-48c7-a64b-392e0fe7b056"
      },
      "outputs": [
        {
          "output_type": "stream",
          "name": "stdout",
          "text": [
            "[0 1 2 0 0 0 0 0 0 9]\n"
          ]
        }
      ],
      "source": [
        "x=np.arange(10)\n",
        "x[(x >=3)&(x <=8)]=0\n",
        "print(x)"
      ]
    },
    {
      "cell_type": "markdown",
      "metadata": {
        "id": "tY3Xw1fYB9MR"
      },
      "source": [
        "#### 26. What is the output of the following script? (★☆☆) \n",
        "(**hint**: np.sum)"
      ]
    },
    {
      "cell_type": "markdown",
      "metadata": {
        "id": "nD6OqtseB9MR"
      },
      "source": [
        "```python\n",
        "# Author: Jake VanderPlas\n",
        "\n",
        "print(sum(range(5),-1))\n",
        "from numpy import *\n",
        "print(sum(range(5),-1))\n",
        "```"
      ]
    },
    {
      "cell_type": "code",
      "execution_count": null,
      "metadata": {
        "id": "4klrdNvvB9MS",
        "colab": {
          "base_uri": "https://localhost:8080/"
        },
        "outputId": "cb2aac75-2c00-4140-d0f0-d585a87af1ee"
      },
      "outputs": [
        {
          "output_type": "stream",
          "name": "stdout",
          "text": [
            "10\n"
          ]
        }
      ],
      "source": [
        "a=np.sum(range(5),-1)\n",
        "print(a)"
      ]
    },
    {
      "cell_type": "markdown",
      "metadata": {
        "id": "mFw24WWYB9MS"
      },
      "source": [
        "#### 27. Consider an integer vector Z, which of these expressions are legal? (★☆☆)"
      ]
    },
    {
      "cell_type": "markdown",
      "metadata": {
        "id": "UXb-9aGJB9MT"
      },
      "source": [
        "```python\n",
        "Z**Z\n",
        "2 << Z >> 2\n",
        "Z <- Z\n",
        "1j*Z\n",
        "Z/1/1\n",
        "Z<Z>Z\n",
        "```"
      ]
    },
    {
      "cell_type": "code",
      "execution_count": null,
      "metadata": {
        "id": "wGgpkq_dB9MT",
        "colab": {
          "base_uri": "https://localhost:8080/"
        },
        "outputId": "23668f14-02f0-4023-e479-cfe11a4dd744"
      },
      "outputs": [
        {
          "output_type": "stream",
          "name": "stdout",
          "text": [
            "4\n",
            "2\n",
            "False\n",
            "2j\n",
            "2.0\n",
            "False\n"
          ]
        }
      ],
      "source": [
        "a=2\n",
        "b=a**a\n",
        "print(b)\n",
        "c=2<<a>>2\n",
        "print(c)\n",
        "d=a<-a\n",
        "print(d)\n",
        "e=1j*a\n",
        "print(e)\n",
        "f=a/1/1\n",
        "print(f)\n",
        "g=a<a>a\n",
        "print(g)"
      ]
    },
    {
      "cell_type": "markdown",
      "metadata": {
        "id": "re3F-G-CB9MT"
      },
      "source": [
        "#### 28. What are the result of the following expressions?"
      ]
    },
    {
      "cell_type": "markdown",
      "metadata": {
        "id": "cLWduuzPB9MT"
      },
      "source": [
        "```python\n",
        "np.array(0) / np.array(0)\n",
        "np.array(0) // np.array(0)\n",
        "np.array([np.nan]).astype(int).astype(float)\n",
        "```"
      ]
    },
    {
      "cell_type": "code",
      "execution_count": null,
      "metadata": {
        "id": "48Zy93tCB9MU",
        "colab": {
          "base_uri": "https://localhost:8080/"
        },
        "outputId": "f1c9289c-e639-43ad-be80-f6ab7526cf76"
      },
      "outputs": [
        {
          "output_type": "stream",
          "name": "stdout",
          "text": [
            "nan\n",
            "0\n",
            "[-9.22337204e+18]\n"
          ]
        },
        {
          "output_type": "stream",
          "name": "stderr",
          "text": [
            "/usr/local/lib/python3.7/dist-packages/ipykernel_launcher.py:1: RuntimeWarning: invalid value encountered in true_divide\n",
            "  \"\"\"Entry point for launching an IPython kernel.\n",
            "/usr/local/lib/python3.7/dist-packages/ipykernel_launcher.py:3: RuntimeWarning: divide by zero encountered in floor_divide\n",
            "  This is separate from the ipykernel package so we can avoid doing imports until\n"
          ]
        }
      ],
      "source": [
        "a=np.array(0)/np.array(0)\n",
        "print(a)\n",
        "b=np.array(0)//np.array(0)\n",
        "print(b)\n",
        "c=np.array([np.nan]).astype(int).astype(float)\n",
        "print(c)"
      ]
    },
    {
      "cell_type": "markdown",
      "metadata": {
        "id": "al8kzGQ3B9MV"
      },
      "source": [
        "#### 29. How to round away from zero a float array ? (★☆☆) \n",
        "(**hint**: np.uniform, np.copysign, np.ceil, np.abs)"
      ]
    },
    {
      "cell_type": "code",
      "execution_count": null,
      "metadata": {
        "id": "GYWrSGumB9MV",
        "colab": {
          "base_uri": "https://localhost:8080/"
        },
        "outputId": "c56bb848-dc34-4483-f456-861803d11f19"
      },
      "outputs": [
        {
          "output_type": "stream",
          "name": "stdout",
          "text": [
            "[ 3.31604538  8.78249198 -9.32986883  1.9287281  -7.09354101 -1.82282891\n",
            " -8.56958308  5.90985414  3.96846009  4.8844244 ]\n",
            "[3.31604538 8.78249198 9.32986883 1.9287281  7.09354101 1.82282891\n",
            " 8.56958308 5.90985414 3.96846009 4.8844244 ]\n",
            "[ 4.  9. -9.  2. -7. -1. -8.  6.  4.  5.]\n",
            "[  4.   9. -10.   2.  -8.  -2.  -9.   6.   4.   5.]\n"
          ]
        }
      ],
      "source": [
        "b=np.random.uniform(-10,10,10)\n",
        "print(b)\n",
        "d=np.abs(b)\n",
        "print(d)\n",
        "e=np.ceil(b)\n",
        "print(e)\n",
        "c=np.copysign(np.ceil(np.abs(b)),b)\n",
        "print(c)"
      ]
    },
    {
      "cell_type": "markdown",
      "metadata": {
        "id": "gj43cBlOB9MV"
      },
      "source": [
        "#### 30. How to find common values between two arrays? (★☆☆) \n",
        "(**hint**: np.intersect1d)"
      ]
    },
    {
      "cell_type": "code",
      "execution_count": null,
      "metadata": {
        "id": "mdiFPtMbB9MV",
        "colab": {
          "base_uri": "https://localhost:8080/"
        },
        "outputId": "ad0d3614-10f4-445b-95cf-e844082e82a7"
      },
      "outputs": [
        {
          "output_type": "stream",
          "name": "stdout",
          "text": [
            "[10 11 12 13 14]\n"
          ]
        }
      ],
      "source": [
        "a=np.arange(15)\n",
        "b=10+np.arange(15)\n",
        "c=np.intersect1d(a,b)\n",
        "print(c)"
      ]
    },
    {
      "cell_type": "markdown",
      "metadata": {
        "id": "t6jfsbq-B9MV"
      },
      "source": [
        "#### 31.How to ignore all numpy warnings (not recommended)? (★☆☆)  \n",
        "(**hint**: np.seterr, np.errstate)"
      ]
    },
    {
      "cell_type": "code",
      "execution_count": null,
      "metadata": {
        "id": "BFDGN7dbB9MW",
        "colab": {
          "base_uri": "https://localhost:8080/"
        },
        "outputId": "7d5188e0-256a-41cd-890d-72d349d0d3a2"
      },
      "outputs": [
        {
          "output_type": "stream",
          "name": "stdout",
          "text": [
            "[0.]\n"
          ]
        }
      ],
      "source": [
        "a=np.sterr(all='ignore')\n",
        "b=np.zeros(1)/100\n",
        "print(b)"
      ]
    },
    {
      "cell_type": "markdown",
      "metadata": {
        "id": "AFwRomAfB9MW"
      },
      "source": [
        "#### 32. Is the following expressions true? (★☆☆) \n",
        "(**hint**: imaginary number)"
      ]
    },
    {
      "cell_type": "markdown",
      "metadata": {
        "id": "hwDlqGncB9MW"
      },
      "source": [
        "```python\n",
        "np.sqrt(-1) == np.emath.sqrt(-1)\n",
        "```"
      ]
    },
    {
      "cell_type": "code",
      "execution_count": null,
      "metadata": {
        "id": "0nLn7nP-B9MX",
        "colab": {
          "base_uri": "https://localhost:8080/"
        },
        "outputId": "599d246f-1c45-43bc-beae-bfb53d2d3d3e"
      },
      "outputs": [
        {
          "output_type": "stream",
          "name": "stdout",
          "text": [
            "False\n"
          ]
        },
        {
          "output_type": "stream",
          "name": "stderr",
          "text": [
            "/usr/local/lib/python3.7/dist-packages/ipykernel_launcher.py:1: RuntimeWarning: invalid value encountered in sqrt\n",
            "  \"\"\"Entry point for launching an IPython kernel.\n"
          ]
        }
      ],
      "source": [
        "a=np.sqrt(-1)\n",
        "b=np.emath.sqrt(-1)\n",
        "if a==b:\n",
        "  print('True')\n",
        "else:\n",
        "  print('False')"
      ]
    },
    {
      "cell_type": "markdown",
      "metadata": {
        "id": "wyiyceU_B9MX"
      },
      "source": [
        "#### 33. How to get the dates of yesterday, today and tomorrow? (★☆☆) \n",
        "(**hint**: np.datetime64, np.timedelta64)"
      ]
    },
    {
      "cell_type": "code",
      "execution_count": null,
      "metadata": {
        "collapsed": true,
        "id": "CcKCi5RZB9MX",
        "colab": {
          "base_uri": "https://localhost:8080/"
        },
        "outputId": "2b5779a8-c81a-4b95-fb13-92282e7d5f33"
      },
      "outputs": [
        {
          "output_type": "stream",
          "name": "stdout",
          "text": [
            "2022-02-16\n",
            "2022-02-17\n",
            "2022-02-15\n"
          ]
        }
      ],
      "source": [
        "a=np.datetime64('today','D')\n",
        "print(a)\n",
        "b=a + np.timedelta64(1,'D')\n",
        "print(b)\n",
        "c=a-np.timedelta64(1,'D')\n",
        "print(c)"
      ]
    },
    {
      "cell_type": "markdown",
      "metadata": {
        "id": "Tgb0Lff_B9MX"
      },
      "source": [
        "#### 34. How to get all the dates corresponding to the month of July 2016? (★★☆) \n",
        "(**hint**: np.arange(dtype=datetime64\\['D'\\]))"
      ]
    },
    {
      "cell_type": "code",
      "execution_count": null,
      "metadata": {
        "id": "ncHA4zLAB9MX",
        "colab": {
          "base_uri": "https://localhost:8080/"
        },
        "outputId": "4167f66b-2aff-4760-901b-1709a852d0c5"
      },
      "outputs": [
        {
          "output_type": "stream",
          "name": "stdout",
          "text": [
            "['2016-07-01' '2016-07-02' '2016-07-03' '2016-07-04' '2016-07-05'\n",
            " '2016-07-06' '2016-07-07' '2016-07-08' '2016-07-09' '2016-07-10'\n",
            " '2016-07-11' '2016-07-12' '2016-07-13' '2016-07-14' '2016-07-15'\n",
            " '2016-07-16' '2016-07-17' '2016-07-18' '2016-07-19' '2016-07-20'\n",
            " '2016-07-21' '2016-07-22' '2016-07-23' '2016-07-24' '2016-07-25'\n",
            " '2016-07-26' '2016-07-27' '2016-07-28' '2016-07-29' '2016-07-30'\n",
            " '2016-07-31']\n"
          ]
        }
      ],
      "source": [
        "a=np.arange('2016-07','2016-08',dtype='datetime64[D]')\n",
        "print(a)"
      ]
    },
    {
      "cell_type": "markdown",
      "metadata": {
        "id": "_3BJlHKcB9MY"
      },
      "source": [
        "#### 35. How to compute ((A+B)\\*(-A/2)) in place (without copy)? (★★☆) \n",
        "(**hint**: np.add(out=), np.negative(out=), np.multiply(out=), np.divide(out=))"
      ]
    },
    {
      "cell_type": "code",
      "execution_count": null,
      "metadata": {
        "id": "cpzfAGlsB9MY",
        "colab": {
          "base_uri": "https://localhost:8080/"
        },
        "outputId": "102014af-9eb0-4382-aed4-4bcdd8d2f2ff"
      },
      "outputs": [
        {
          "output_type": "stream",
          "name": "stdout",
          "text": [
            "-6.0\n"
          ]
        }
      ],
      "source": [
        "a=2\n",
        "b=4\n",
        "c=np.add(a,b)\n",
        "d=np.negative(a)\n",
        "e=np.divide(d,2)\n",
        "f=np.multiply(c,e)\n",
        "print(f)"
      ]
    },
    {
      "cell_type": "markdown",
      "metadata": {
        "id": "BLH9LxrHB9MY"
      },
      "source": [
        "#### 36. Extract the integer part of a random array using 5 different methods (★★☆) \n",
        "(**hint**: %, np.floor, np.ceil, astype, np.trunc)"
      ]
    },
    {
      "cell_type": "code",
      "execution_count": null,
      "metadata": {
        "id": "pUmSCVWfB9MY",
        "colab": {
          "base_uri": "https://localhost:8080/"
        },
        "outputId": "777b39cc-219b-4aa1-82b4-3e89f1e8c8ca"
      },
      "outputs": [
        {
          "output_type": "stream",
          "name": "stdout",
          "text": [
            "[8. 2. 4. 3. 7. 2. 1. 2. 4. 6.]\n",
            "[8. 2. 4. 3. 7. 2. 1. 2. 4. 6.]\n",
            "[8. 2. 4. 3. 7. 2. 1. 2. 4. 6.]\n",
            "[8 2 4 3 7 2 1 2 4 6]\n",
            "[8. 2. 4. 3. 7. 2. 1. 2. 4. 6.]\n"
          ]
        }
      ],
      "source": [
        "Z = np.random.uniform(0,10,10)\n",
        "\n",
        "print(Z - Z%1)\n",
        "print(Z // 1)\n",
        "print(np.floor(Z))\n",
        "print(Z.astype(int))\n",
        "print(np.trunc(Z))"
      ]
    },
    {
      "cell_type": "markdown",
      "metadata": {
        "id": "2GK4cHujB9MY"
      },
      "source": [
        "#### 37. Create a 5x5 matrix with row values ranging from 0 to 4 (★★☆) \n",
        "(**hint**: np.arange)"
      ]
    },
    {
      "cell_type": "code",
      "execution_count": null,
      "metadata": {
        "id": "ypHnck-_B9MZ",
        "colab": {
          "base_uri": "https://localhost:8080/"
        },
        "outputId": "74cba5c2-a78c-4ce9-cdba-d4d158c11d18"
      },
      "outputs": [
        {
          "output_type": "stream",
          "name": "stdout",
          "text": [
            "[[0. 1. 2. 3. 4.]\n",
            " [0. 1. 2. 3. 4.]\n",
            " [0. 1. 2. 3. 4.]\n",
            " [0. 1. 2. 3. 4.]\n",
            " [0. 1. 2. 3. 4.]]\n"
          ]
        }
      ],
      "source": [
        "a=np.zeros((5,5))\n",
        "a+=np.arange(5)\n",
        "print(a)\n"
      ]
    },
    {
      "cell_type": "markdown",
      "metadata": {
        "id": "QI24NiV_B9MZ"
      },
      "source": [
        "#### 38. Consider a generator function that generates 10 integers and use it to build an array (★☆☆) \n",
        "(**hint**: np.fromiter)"
      ]
    },
    {
      "cell_type": "code",
      "execution_count": null,
      "metadata": {
        "id": "QSBAFcLgB9MZ",
        "colab": {
          "base_uri": "https://localhost:8080/"
        },
        "outputId": "deb81479-8566-4887-a9f2-ea92d110fe47"
      },
      "outputs": [
        {
          "output_type": "stream",
          "name": "stdout",
          "text": [
            "[0 1 2 3 4 5 6 7 8 9]\n"
          ]
        }
      ],
      "source": [
        "def gen():\n",
        "  for i in range(10):\n",
        "    yield i\n",
        "a=np.fromiter(gen(),dtype=int)\n",
        "print(a)"
      ]
    },
    {
      "cell_type": "markdown",
      "metadata": {
        "id": "EijB8l_0B9MZ"
      },
      "source": [
        "#### 39. Create a vector of size 10 with values ranging from 0 to 1, both excluded (★★☆) \n",
        "(**hint**: np.linspace)"
      ]
    },
    {
      "cell_type": "code",
      "execution_count": null,
      "metadata": {
        "id": "Bizvbkn8B9Ma",
        "colab": {
          "base_uri": "https://localhost:8080/"
        },
        "outputId": "ce92fe9b-ec4c-4cf4-ad28-b2c0c266d091"
      },
      "outputs": [
        {
          "output_type": "stream",
          "name": "stdout",
          "text": [
            "[0.  0.1 0.2 0.3 0.4 0.5 0.6 0.7 0.8 0.9]\n"
          ]
        }
      ],
      "source": [
        "Z = np.linspace(0,1,10,endpoint=False)\n",
        "print(Z)"
      ]
    },
    {
      "cell_type": "markdown",
      "metadata": {
        "id": "c6EnspHKB9Ma"
      },
      "source": [
        "#### 40. Create a random vector of size 10 and sort it (★★☆) \n",
        "(**hint**: sort)"
      ]
    },
    {
      "cell_type": "code",
      "execution_count": null,
      "metadata": {
        "id": "G9hnXuD5B9Ma",
        "colab": {
          "base_uri": "https://localhost:8080/"
        },
        "outputId": "5acd5e52-846c-4dab-aa30-392ce16ccacf"
      },
      "outputs": [
        {
          "output_type": "stream",
          "name": "stdout",
          "text": [
            "[1.1133363  1.95974423 1.34329022 1.11716283 1.57223523 1.17234666\n",
            " 1.68096411 1.33399718 1.00981756 1.77803169]\n",
            "[1.00981756 1.1133363  1.11716283 1.17234666 1.33399718 1.34329022\n",
            " 1.57223523 1.68096411 1.77803169 1.95974423]\n"
          ]
        }
      ],
      "source": [
        "a=1+np.random.random(10)\n",
        "b=np.sort(a)\n",
        "print(b)"
      ]
    },
    {
      "cell_type": "markdown",
      "metadata": {
        "id": "bSp543KwB9Ma"
      },
      "source": [
        "#### 41. How to sum a small array faster than np.sum? (★★☆) \n",
        "(**hint**: np.add.reduce)"
      ]
    },
    {
      "cell_type": "code",
      "execution_count": null,
      "metadata": {
        "id": "LTUOFesfB9Ma",
        "colab": {
          "base_uri": "https://localhost:8080/"
        },
        "outputId": "cc93a346-9451-431f-a1f3-013fbc0d9ba5"
      },
      "outputs": [
        {
          "output_type": "stream",
          "name": "stdout",
          "text": [
            "45\n"
          ]
        }
      ],
      "source": [
        "a=np.arange(10)\n",
        "b=np.add.reduce(a)\n",
        "print(b)"
      ]
    },
    {
      "cell_type": "markdown",
      "metadata": {
        "id": "f5ewCXQkB9Mb"
      },
      "source": [
        "#### 42. Consider two random array A and B, check if they are equal (★★☆) \n",
        "(**hint**: np.allclose, np.array\\_equal)"
      ]
    },
    {
      "cell_type": "code",
      "execution_count": null,
      "metadata": {
        "id": "DgnDWt1hB9Mb",
        "colab": {
          "base_uri": "https://localhost:8080/"
        },
        "outputId": "be4a3bb4-9371-41e0-ec3a-7b88056baa7c"
      },
      "outputs": [
        {
          "output_type": "stream",
          "name": "stdout",
          "text": [
            "False\n",
            "False\n"
          ]
        }
      ],
      "source": [
        "a=np.random.random(10)\n",
        "b=np.random.random(10)\n",
        "c=np.allclose(a,b)\n",
        "print(c)\n",
        "d=np.array_equal(b,a)\n",
        "print(d)"
      ]
    },
    {
      "cell_type": "markdown",
      "metadata": {
        "id": "7z47AGAMB9Mb"
      },
      "source": [
        "#### 43. Make an array immutable (read-only) (★★☆) \n",
        "(**hint**: flags.writeable)"
      ]
    },
    {
      "cell_type": "code",
      "execution_count": null,
      "metadata": {
        "id": "JSCDfRV1B9Mb",
        "colab": {
          "base_uri": "https://localhost:8080/"
        },
        "outputId": "34378c6d-7096-4daf-8bba-0af6cfe54c20"
      },
      "outputs": [
        {
          "output_type": "stream",
          "name": "stdout",
          "text": [
            "[0 1 2 3 4 5 6 7 8 9]\n"
          ]
        }
      ],
      "source": [
        "a=np.arange(10)\n",
        "a.flags.writeable=False\n",
        "print(a)"
      ]
    },
    {
      "cell_type": "markdown",
      "metadata": {
        "id": "7uxWItpzB9Mb"
      },
      "source": [
        "#### 44. Consider a random 10x2 matrix representing cartesian coordinates, convert them to polar coordinates (★★☆) \n",
        "(**hint**: np.sqrt, np.arctan2)"
      ]
    },
    {
      "cell_type": "code",
      "execution_count": null,
      "metadata": {
        "id": "p0ctfSvvB9Mc",
        "colab": {
          "base_uri": "https://localhost:8080/"
        },
        "outputId": "e6c4c519-dfda-43d6-b7e1-1230e982078b"
      },
      "outputs": [
        {
          "output_type": "stream",
          "name": "stdout",
          "text": [
            "[[0.76029464 0.09849651]\n",
            " [0.41498321 0.63650508]\n",
            " [0.53770156 0.80552994]\n",
            " [0.32744924 0.82378132]\n",
            " [0.67996634 0.57394903]\n",
            " [0.26946445 0.03324996]\n",
            " [0.75311717 0.30365023]\n",
            " [0.43231791 0.07608855]\n",
            " [0.53250182 0.64233565]\n",
            " [0.86560349 0.00612148]]\n",
            "[0.76664823 0.75983537 0.96850475 0.88647542 0.88981555 0.2715081\n",
            " 0.81202767 0.43896268 0.834358   0.86562514]\n",
            "[1.44196343 0.57775996 0.58858817 0.37834533 0.86974657 1.44802416\n",
            " 1.18754193 1.39657921 0.69218058 1.56372452]\n"
          ]
        }
      ],
      "source": [
        "a=np.random.random((10,2))\n",
        "print(a)\n",
        "x=a[:,0]\n",
        "y=a[:,1]\n",
        "b=np.sqrt((x**2)+(y**2))\n",
        "c=np.arctan2(x,y)\n",
        "print(b)\n",
        "print(c)"
      ]
    },
    {
      "cell_type": "markdown",
      "metadata": {
        "id": "ETc6X97SB9Mc"
      },
      "source": [
        "#### 45. Create random vector of size 10 and replace the maximum value by 0 (★★☆) \n",
        "(**hint**: argmax)"
      ]
    },
    {
      "cell_type": "code",
      "execution_count": null,
      "metadata": {
        "id": "DFW34fBrB9Mc",
        "colab": {
          "base_uri": "https://localhost:8080/"
        },
        "outputId": "7116a6da-f537-43f7-fcd3-a27b61bc1eb7"
      },
      "outputs": [
        {
          "output_type": "stream",
          "name": "stdout",
          "text": [
            "[0.01533832 0.         0.78837806 0.63282163 0.60345247 0.27674577\n",
            " 0.44283464 0.17541028 0.28698105 0.67935551]\n"
          ]
        }
      ],
      "source": [
        "a=np.random.random(10)\n",
        "a[a.argmax()]=0\n",
        "print(a)"
      ]
    },
    {
      "cell_type": "markdown",
      "metadata": {
        "id": "Ijq0Iw8vB9Mc"
      },
      "source": [
        "#### 46. Create a structured array with `x` and `y` coordinates covering the \\[0,1\\]x\\[0,1\\] area (★★☆) \n",
        "(**hint**: np.meshgrid)"
      ]
    },
    {
      "cell_type": "code",
      "execution_count": null,
      "metadata": {
        "id": "QVciaQ26B9Mc",
        "colab": {
          "base_uri": "https://localhost:8080/"
        },
        "outputId": "b7bf601a-10f6-47d2-bbb6-2c879ad218cc"
      },
      "outputs": [
        {
          "output_type": "stream",
          "name": "stdout",
          "text": [
            "[[(0.  , 0.  ) (0.25, 0.  ) (0.5 , 0.  ) (0.75, 0.  ) (1.  , 0.  )]\n",
            " [(0.  , 0.25) (0.25, 0.25) (0.5 , 0.25) (0.75, 0.25) (1.  , 0.25)]\n",
            " [(0.  , 0.5 ) (0.25, 0.5 ) (0.5 , 0.5 ) (0.75, 0.5 ) (1.  , 0.5 )]\n",
            " [(0.  , 0.75) (0.25, 0.75) (0.5 , 0.75) (0.75, 0.75) (1.  , 0.75)]\n",
            " [(0.  , 1.  ) (0.25, 1.  ) (0.5 , 1.  ) (0.75, 1.  ) (1.  , 1.  )]]\n"
          ]
        }
      ],
      "source": [
        "a=np.zeros((5,5),[('x',float),('y',float)])\n",
        "a['x'],a['y']=np.meshgrid(np.linspace(0,1,5),np.linspace(0,1,5))\n",
        "print(a)"
      ]
    },
    {
      "cell_type": "code",
      "source": [
        ""
      ],
      "metadata": {
        "id": "xNVwwwp4zCek"
      },
      "execution_count": null,
      "outputs": []
    },
    {
      "cell_type": "markdown",
      "metadata": {
        "id": "Hm2vksXkB9Md"
      },
      "source": [
        "####  47. Given two arrays, X and Y, construct the Cauchy matrix C (Cij =1/(xi - yj)) \n",
        "(**hint**: np.subtract.outer)"
      ]
    },
    {
      "cell_type": "code",
      "execution_count": null,
      "metadata": {
        "id": "U9fFl-NRB9Md",
        "colab": {
          "base_uri": "https://localhost:8080/"
        },
        "outputId": "c4f184dc-1a06-4fe9-a974-15c8e7cb4b87"
      },
      "outputs": [
        {
          "output_type": "stream",
          "name": "stdout",
          "text": [
            "-2.164202861343284e-53\n"
          ]
        }
      ],
      "source": [
        "a=np.arange(10)\n",
        "b=10+np.arange(10)\n",
        "c=1/(np.subtract.outer(a, b))\n",
        "d=np.linalg.det(c)\n",
        "print(d)"
      ]
    },
    {
      "cell_type": "markdown",
      "metadata": {
        "id": "q8JT4CdAB9Md"
      },
      "source": [
        "#### 48. Print the minimum and maximum representable value for each numpy scalar type (★★☆) \n",
        "(**hint**: np.iinfo, np.finfo, eps)"
      ]
    },
    {
      "cell_type": "code",
      "execution_count": null,
      "metadata": {
        "id": "QUvhCgSyB9Md",
        "colab": {
          "base_uri": "https://localhost:8080/"
        },
        "outputId": "ce01dcb0-e38b-4fae-f576-682db09fdbaa"
      },
      "outputs": [
        {
          "output_type": "stream",
          "name": "stdout",
          "text": [
            "32767\n",
            "-32768\n",
            "2147483647\n",
            "-2147483648\n",
            "9223372036854775807\n",
            "-9223372036854775808\n",
            "65500.0\n",
            "-65500.0\n",
            "0.000977\n",
            "3.4028235e+38\n",
            "-3.4028235e+38\n",
            "1.1920929e-07\n",
            "1.7976931348623157e+308\n",
            "-1.7976931348623157e+308\n",
            "2.220446049250313e-16\n",
            "1.189731495357231765e+4932\n",
            "-1.189731495357231765e+4932\n",
            "1.084202172485504434e-19\n"
          ]
        }
      ],
      "source": [
        "for i in [np.int16,np.int32,np.int64]:\n",
        "  print(np.iinfo(i).max)\n",
        "  print(np.iinfo(i).min)\n",
        "  #print(np.iinfo(i).eps)\n",
        "for i in [np.float16,np.float32,np.float64,np.float128]:\n",
        "  print(np.finfo(i).max)\n",
        "  print(np.finfo(i).min)\n",
        "  print(np.finfo(i).eps)"
      ]
    },
    {
      "cell_type": "markdown",
      "metadata": {
        "id": "sSiht6AnB9Md"
      },
      "source": [
        "#### 49. How to print all the values of an array? (★★☆) \n",
        "(**hint**: np.set\\_printoptions)"
      ]
    },
    {
      "cell_type": "code",
      "execution_count": null,
      "metadata": {
        "id": "voL40TaTB9Me",
        "colab": {
          "base_uri": "https://localhost:8080/"
        },
        "outputId": "ead39a15-cbf7-4d2d-9e44-d55bb69093a3"
      },
      "outputs": [
        {
          "output_type": "stream",
          "name": "stdout",
          "text": [
            "[[0. 0. 0. 0. 0. 0. 0. 0. 0. 0. 0. 0. 0. 0. 0. 0. 0. 0. 0.]\n",
            " [0. 0. 0. 0. 0. 0. 0. 0. 0. 0. 0. 0. 0. 0. 0. 0. 0. 0. 0.]\n",
            " [0. 0. 0. 0. 0. 0. 0. 0. 0. 0. 0. 0. 0. 0. 0. 0. 0. 0. 0.]\n",
            " [0. 0. 0. 0. 0. 0. 0. 0. 0. 0. 0. 0. 0. 0. 0. 0. 0. 0. 0.]\n",
            " [0. 0. 0. 0. 0. 0. 0. 0. 0. 0. 0. 0. 0. 0. 0. 0. 0. 0. 0.]\n",
            " [0. 0. 0. 0. 0. 0. 0. 0. 0. 0. 0. 0. 0. 0. 0. 0. 0. 0. 0.]\n",
            " [0. 0. 0. 0. 0. 0. 0. 0. 0. 0. 0. 0. 0. 0. 0. 0. 0. 0. 0.]\n",
            " [0. 0. 0. 0. 0. 0. 0. 0. 0. 0. 0. 0. 0. 0. 0. 0. 0. 0. 0.]\n",
            " [0. 0. 0. 0. 0. 0. 0. 0. 0. 0. 0. 0. 0. 0. 0. 0. 0. 0. 0.]\n",
            " [0. 0. 0. 0. 0. 0. 0. 0. 0. 0. 0. 0. 0. 0. 0. 0. 0. 0. 0.]\n",
            " [0. 0. 0. 0. 0. 0. 0. 0. 0. 0. 0. 0. 0. 0. 0. 0. 0. 0. 0.]\n",
            " [0. 0. 0. 0. 0. 0. 0. 0. 0. 0. 0. 0. 0. 0. 0. 0. 0. 0. 0.]\n",
            " [0. 0. 0. 0. 0. 0. 0. 0. 0. 0. 0. 0. 0. 0. 0. 0. 0. 0. 0.]\n",
            " [0. 0. 0. 0. 0. 0. 0. 0. 0. 0. 0. 0. 0. 0. 0. 0. 0. 0. 0.]\n",
            " [0. 0. 0. 0. 0. 0. 0. 0. 0. 0. 0. 0. 0. 0. 0. 0. 0. 0. 0.]\n",
            " [0. 0. 0. 0. 0. 0. 0. 0. 0. 0. 0. 0. 0. 0. 0. 0. 0. 0. 0.]\n",
            " [0. 0. 0. 0. 0. 0. 0. 0. 0. 0. 0. 0. 0. 0. 0. 0. 0. 0. 0.]\n",
            " [0. 0. 0. 0. 0. 0. 0. 0. 0. 0. 0. 0. 0. 0. 0. 0. 0. 0. 0.]\n",
            " [0. 0. 0. 0. 0. 0. 0. 0. 0. 0. 0. 0. 0. 0. 0. 0. 0. 0. 0.]]\n"
          ]
        }
      ],
      "source": [
        "np.set_printoptions(threshold=None)\n",
        "a=np.zeros((19,19))\n",
        "print(a)\n"
      ]
    },
    {
      "cell_type": "markdown",
      "metadata": {
        "id": "tExBzMAKB9Me"
      },
      "source": [
        "#### 50. How to find the closest value (to a given scalar) in a vector? (★★☆) \n",
        "(**hint**: argmin)"
      ]
    },
    {
      "cell_type": "code",
      "execution_count": null,
      "metadata": {
        "id": "Lzx0ZVvHB9Me",
        "colab": {
          "base_uri": "https://localhost:8080/"
        },
        "outputId": "e33065e7-8085-455e-ea1a-64718862ea37"
      },
      "outputs": [
        {
          "output_type": "stream",
          "name": "stdout",
          "text": [
            "46.62473957657388\n",
            "47\n"
          ]
        }
      ],
      "source": [
        "a=np.arange(100)\n",
        "b=np.random.uniform(0,100)\n",
        "print(b)\n",
        "c=np.abs(a-b).argmin()\n",
        "print(a[c])"
      ]
    },
    {
      "cell_type": "markdown",
      "metadata": {
        "id": "DKZiGEf2B9Me"
      },
      "source": [
        "#### 51. Create a structured array representing a position (x,y) and a color (r,g,b) (★★☆) \n",
        "(**hint**: dtype)"
      ]
    },
    {
      "cell_type": "code",
      "execution_count": null,
      "metadata": {
        "id": "__qCRSkSB9Mf",
        "colab": {
          "base_uri": "https://localhost:8080/"
        },
        "outputId": "fa545ef4-853a-400a-e71d-5dd677dc9db9"
      },
      "outputs": [
        {
          "output_type": "stream",
          "name": "stdout",
          "text": [
            "[((0., 0.), (0., 0., 0.)) ((0., 0.), (0., 0., 0.))\n",
            " ((0., 0.), (0., 0., 0.)) ((0., 0.), (0., 0., 0.))\n",
            " ((0., 0.), (0., 0., 0.)) ((0., 0.), (0., 0., 0.))\n",
            " ((0., 0.), (0., 0., 0.)) ((0., 0.), (0., 0., 0.))\n",
            " ((0., 0.), (0., 0., 0.)) ((0., 0.), (0., 0., 0.))]\n"
          ]
        },
        {
          "output_type": "stream",
          "name": "stderr",
          "text": [
            "/usr/local/lib/python3.7/dist-packages/ipykernel_launcher.py:1: FutureWarning: Passing (type, 1) or '1type' as a synonym of type is deprecated; in a future version of numpy, it will be understood as (type, (1,)) / '(1,)type'.\n",
            "  \"\"\"Entry point for launching an IPython kernel.\n"
          ]
        }
      ],
      "source": [
        "a= np.zeros(10, [ ('position', [ ('x', float, 1),('y', float, 1)]), ('color',[ ('r', float, 1),('g', float, 1),('b', float, 1)])])\n",
        "print(a)"
      ]
    },
    {
      "cell_type": "markdown",
      "metadata": {
        "id": "l4-G6pTLB9Mf"
      },
      "source": [
        "#### 52. Consider a random vector with shape (100,2) representing coordinates, find point by point distances (★★☆) \n",
        "(**hint**: np.atleast\\_2d, T, np.sqrt)"
      ]
    },
    {
      "cell_type": "code",
      "execution_count": null,
      "metadata": {
        "id": "2PIwhAkaB9Mf",
        "colab": {
          "base_uri": "https://localhost:8080/"
        },
        "outputId": "9dd8b7f1-7c2e-4628-d4cd-f872bc16dc29"
      },
      "outputs": [
        {
          "output_type": "stream",
          "name": "stdout",
          "text": [
            "[[0.89561376 0.48993401]\n",
            " [0.47290121 0.59946718]\n",
            " [0.99854956 0.78163612]\n",
            " [0.20590043 0.79521915]\n",
            " [0.97529444 0.15218821]\n",
            " [0.0537086  0.89725826]\n",
            " [0.84575527 0.03935107]\n",
            " [0.52211975 0.11266021]\n",
            " [0.72673013 0.08967591]\n",
            " [0.41333945 0.04207762]]\n",
            "[[0.         0.43667311 0.30933138 0.75425691 0.34701764 0.93526324\n",
            "  0.45333306 0.53087974 0.43442862 0.65815185]\n",
            " [0.43667311 0.         0.55631979 0.33107137 0.67264956 0.51420032\n",
            "  0.67286716 0.48928876 0.56948771 0.56056287]\n",
            " [0.30933138 0.55631979 0.         0.7927655  0.62987735 0.95188913\n",
            "  0.75784774 0.8212881  0.74343442 0.94308942]\n",
            " [0.75425691 0.33107137 0.7927655  0.         1.00272425 0.183233\n",
            "  0.99032862 0.75225086 0.87695771 0.78118698]\n",
            " [0.34701764 0.67264956 0.62987735 1.00272425 0.         1.18509486\n",
            "  0.17179237 0.45489533 0.25630451 0.57264103]\n",
            " [0.93526324 0.51420032 0.95188913 0.183233   1.18509486 0.\n",
            "  1.16762266 0.91378504 1.05125982 0.92772208]\n",
            " [0.45333306 0.67286716 0.75784774 0.99032862 0.17179237 1.16762266\n",
            "  0.         0.33183457 0.12922683 0.43242442]\n",
            " [0.53087974 0.48928876 0.8212881  0.75225086 0.45489533 0.91378504\n",
            "  0.33183457 0.         0.20589727 0.12967288]\n",
            " [0.43442862 0.56948771 0.74343442 0.87695771 0.25630451 1.05125982\n",
            "  0.12922683 0.20589727 0.         0.31698473]\n",
            " [0.65815185 0.56056287 0.94308942 0.78118698 0.57264103 0.92772208\n",
            "  0.43242442 0.12967288 0.31698473 0.        ]]\n"
          ]
        }
      ],
      "source": [
        "Z = np.random.random((10,2))\n",
        "print(Z)\n",
        "X,Y = np.atleast_2d(Z[:,0], Z[:,1])\n",
        "D = np.sqrt( (X-X.T)**2 + (Y-Y.T)**2)\n",
        "print(D)"
      ]
    },
    {
      "cell_type": "markdown",
      "metadata": {
        "id": "gsrWjgQfB9Mf"
      },
      "source": [
        "#### 53. How to convert a float (32 bits) array into an integer (32 bits) in place? \n",
        "(**hint**: astype(copy=False))"
      ]
    },
    {
      "cell_type": "code",
      "execution_count": null,
      "metadata": {
        "id": "5PGIkuH_B9Mf",
        "colab": {
          "base_uri": "https://localhost:8080/"
        },
        "outputId": "14927826-9e89-4175-8b28-4b71e7f1756a"
      },
      "outputs": [
        {
          "output_type": "stream",
          "name": "stdout",
          "text": [
            "[ 0  1  2  3  4  5  6  7  8  9 10 11 12 13 14 15 16 17 18 19]\n"
          ]
        }
      ],
      "source": [
        "A=np.arange(20,dtype=np.float32)\n",
        "A=A.astype(np.int32)\n",
        "print(A)"
      ]
    },
    {
      "cell_type": "markdown",
      "metadata": {
        "id": "kTWaccUGB9Mg"
      },
      "source": [
        "#### 54. How to read the following file? (★★☆) \n",
        "(**hint**: np.genfromtxt)"
      ]
    },
    {
      "cell_type": "markdown",
      "metadata": {
        "id": "bJSnDEtDB9Mg"
      },
      "source": [
        "```\n",
        "1, 2, 3, 4, 5\n",
        "6,  ,  , 7, 8\n",
        " ,  , 9,10,11\n",
        "```"
      ]
    },
    {
      "cell_type": "code",
      "execution_count": null,
      "metadata": {
        "id": "T4U0FkZZB9Mg",
        "colab": {
          "base_uri": "https://localhost:8080/"
        },
        "outputId": "f79eb671-3b75-48dd-e594-db808486a7b0"
      },
      "outputs": [
        {
          "output_type": "stream",
          "name": "stdout",
          "text": [
            "[[ 1  2  3  4  5]\n",
            " [ 6 -1 -1  7  8]\n",
            " [-1 -1  9 10 11]]\n"
          ]
        },
        {
          "output_type": "stream",
          "name": "stderr",
          "text": [
            "/usr/local/lib/python3.7/dist-packages/ipykernel_launcher.py:5: DeprecationWarning: `np.int` is a deprecated alias for the builtin `int`. To silence this warning, use `int` by itself. Doing this will not modify any behavior and is safe. When replacing `np.int`, you may wish to use e.g. `np.int64` or `np.int32` to specify the precision. If you wish to review your current use, check the release note link for additional information.\n",
            "Deprecated in NumPy 1.20; for more details and guidance: https://numpy.org/devdocs/release/1.20.0-notes.html#deprecations\n",
            "  \"\"\"\n"
          ]
        }
      ],
      "source": [
        "from io import StringIO\n",
        "a= StringIO(\"\"\"1, 2, 3, 4, 5\\n\n",
        "                6,  ,  , 7, 8\\n\n",
        "                 ,  , 9,10,11\\n\"\"\")\n",
        "b= np.genfromtxt(a, delimiter=\",\", dtype=np.int)\n",
        "print(b)"
      ]
    },
    {
      "cell_type": "markdown",
      "metadata": {
        "id": "NGzUN1yYB9Mg"
      },
      "source": [
        "#### 55. What is the equivalent of enumerate for numpy arrays? (★★☆) \n",
        "(**hint**: np.ndenumerate, np.ndindex)"
      ]
    },
    {
      "cell_type": "code",
      "execution_count": null,
      "metadata": {
        "id": "n9hERWOHB9Mg",
        "colab": {
          "base_uri": "https://localhost:8080/"
        },
        "outputId": "32fc99f6-54e3-4859-8f9f-7f47649f6a19"
      },
      "outputs": [
        {
          "output_type": "stream",
          "name": "stdout",
          "text": [
            "(0, 0) 0.8956137558272605\n",
            "(0, 1) 0.48993401352035293\n",
            "(1, 0) 0.47290121331333645\n",
            "(1, 1) 0.5994671833258813\n",
            "(2, 0) 0.9985495629298095\n",
            "(2, 1) 0.7816361223801077\n",
            "(3, 0) 0.20590043110247724\n",
            "(3, 1) 0.795219149271694\n",
            "(4, 0) 0.9752944375482474\n",
            "(4, 1) 0.1521882074119293\n",
            "(5, 0) 0.053708600311252686\n",
            "(5, 1) 0.8972582571040708\n",
            "(6, 0) 0.845755268834244\n",
            "(6, 1) 0.039351065524219186\n",
            "(7, 0) 0.5221197473810333\n",
            "(7, 1) 0.11266021268970172\n",
            "(8, 0) 0.7267301265910014\n",
            "(8, 1) 0.08967591272743614\n",
            "(9, 0) 0.41333944566579084\n",
            "(9, 1) 0.04207762159511064\n"
          ]
        },
        {
          "output_type": "execute_result",
          "data": {
            "text/plain": [
              "(3, 2)"
            ]
          },
          "metadata": {},
          "execution_count": 47
        }
      ],
      "source": [
        "a= np.arange(6).reshape(3,2)\n",
        "for index, value in np.ndenumerate(Z):\n",
        "    print(index, value)\n",
        "a.shape"
      ]
    },
    {
      "cell_type": "markdown",
      "metadata": {
        "id": "_2thlxU8B9Mh"
      },
      "source": [
        "#### 56. Generate a generic 2D Gaussian-like array (★★☆) \n",
        "(**hint**: np.meshgrid, np.exp)"
      ]
    },
    {
      "cell_type": "code",
      "execution_count": null,
      "metadata": {
        "id": "AARNXmWqB9Mh",
        "colab": {
          "base_uri": "https://localhost:8080/"
        },
        "outputId": "e0408c3e-aa58-49c9-f9fd-5870cefa7a0c"
      },
      "outputs": [
        {
          "output_type": "stream",
          "name": "stdout",
          "text": [
            "[[0.36787944 0.44822088 0.51979489 0.57375342 0.60279818 0.60279818\n",
            "  0.57375342 0.51979489 0.44822088 0.36787944]\n",
            " [0.44822088 0.54610814 0.63331324 0.69905581 0.73444367 0.73444367\n",
            "  0.69905581 0.63331324 0.54610814 0.44822088]\n",
            " [0.51979489 0.63331324 0.73444367 0.81068432 0.85172308 0.85172308\n",
            "  0.81068432 0.73444367 0.63331324 0.51979489]\n",
            " [0.57375342 0.69905581 0.81068432 0.89483932 0.9401382  0.9401382\n",
            "  0.89483932 0.81068432 0.69905581 0.57375342]\n",
            " [0.60279818 0.73444367 0.85172308 0.9401382  0.98773022 0.98773022\n",
            "  0.9401382  0.85172308 0.73444367 0.60279818]\n",
            " [0.60279818 0.73444367 0.85172308 0.9401382  0.98773022 0.98773022\n",
            "  0.9401382  0.85172308 0.73444367 0.60279818]\n",
            " [0.57375342 0.69905581 0.81068432 0.89483932 0.9401382  0.9401382\n",
            "  0.89483932 0.81068432 0.69905581 0.57375342]\n",
            " [0.51979489 0.63331324 0.73444367 0.81068432 0.85172308 0.85172308\n",
            "  0.81068432 0.73444367 0.63331324 0.51979489]\n",
            " [0.44822088 0.54610814 0.63331324 0.69905581 0.73444367 0.73444367\n",
            "  0.69905581 0.63331324 0.54610814 0.44822088]\n",
            " [0.36787944 0.44822088 0.51979489 0.57375342 0.60279818 0.60279818\n",
            "  0.57375342 0.51979489 0.44822088 0.36787944]]\n"
          ]
        }
      ],
      "source": [
        "a,b=np.meshgrid(np.linspace(-1,1,10), np.linspace(-1,1,10))\n",
        "c=np.sqrt(a**2+b**2)\n",
        "sigma, mu = 1.0, 0.0\n",
        "d=np.exp(-( (c-mu)**2 / ( 2.0 * sigma**2 ) ) )\n",
        "print(d)"
      ]
    },
    {
      "cell_type": "markdown",
      "metadata": {
        "id": "GCTwmKpkB9Mh"
      },
      "source": [
        "#### 57. How to randomly place p elements in a 2D array? (★★☆) \n",
        "(**hint**: np.put, np.random.choice)"
      ]
    },
    {
      "cell_type": "code",
      "execution_count": null,
      "metadata": {
        "id": "prZOcN22B9Mh",
        "colab": {
          "base_uri": "https://localhost:8080/"
        },
        "outputId": "9b657361-1337-4d80-c4dd-94f2c75a79fc"
      },
      "outputs": [
        {
          "output_type": "stream",
          "name": "stdout",
          "text": [
            "[20  0 16]\n",
            "[[0. 0. 0. 1. 0. 0. 0. 0. 0. 0.]\n",
            " [0. 0. 0. 0. 0. 0. 0. 0. 0. 0.]\n",
            " [0. 0. 1. 0. 0. 0. 0. 0. 0. 0.]\n",
            " [0. 0. 0. 0. 0. 0. 0. 0. 0. 0.]\n",
            " [0. 0. 0. 0. 0. 1. 0. 0. 0. 0.]\n",
            " [0. 0. 0. 0. 0. 0. 0. 0. 0. 0.]\n",
            " [0. 0. 0. 0. 0. 0. 0. 0. 0. 0.]\n",
            " [0. 0. 0. 0. 0. 0. 0. 0. 0. 0.]\n",
            " [0. 0. 0. 0. 0. 0. 0. 0. 0. 0.]\n",
            " [0. 0. 0. 0. 0. 0. 0. 0. 0. 0.]]\n"
          ]
        }
      ],
      "source": [
        "a= 3\n",
        "b = np.zeros((10,10))\n",
        "np.put(b,[3,45,22],1)\n",
        "print(b)"
      ]
    },
    {
      "cell_type": "markdown",
      "metadata": {
        "id": "tm3SW8-LB9Mh"
      },
      "source": [
        "#### 58. Subtract the mean of each row of a matrix (★★☆) \n",
        "(**hint**: mean(axis=,keepdims=))"
      ]
    },
    {
      "cell_type": "code",
      "execution_count": null,
      "metadata": {
        "id": "VtFv5aKHB9Mi",
        "colab": {
          "base_uri": "https://localhost:8080/"
        },
        "outputId": "b0255d43-f17d-41ff-aaf1-3a61e8a43a30"
      },
      "outputs": [
        {
          "output_type": "stream",
          "name": "stdout",
          "text": [
            "[[10.68358411 10.6568464  10.56106084 10.83913258 10.82878492]\n",
            " [10.27307461 10.71699332 10.34400362 10.98548646 10.11126622]\n",
            " [10.83874765 10.04268684 10.53038015 10.0417537  10.75326638]\n",
            " [10.60464474 10.08646739 10.69641019 10.37635337 10.58222793]\n",
            " [10.18019623 10.18336092 10.0036866  10.45092961 10.26679453]]\n",
            "[[-0.03029766  0.17068155  0.1196939   0.36991186  0.61179134]\n",
            " [-0.44080716  0.23082848 -0.09736333  0.51626574 -0.10572735]\n",
            " [ 0.12486588 -0.443478    0.08901321 -0.42746702  0.53627281]\n",
            " [-0.10923703 -0.39969746  0.25504325 -0.09286736  0.36523436]\n",
            " [-0.53368554 -0.30280393 -0.43768035 -0.01829112  0.04980095]]\n"
          ]
        }
      ],
      "source": [
        "a=10+np.random.random((5,5))\n",
        "print(a)\n",
        "b=a-np.mean(a,axis=1)\n",
        "print(b)\n"
      ]
    },
    {
      "cell_type": "markdown",
      "metadata": {
        "id": "7YWnM82yB9Mi"
      },
      "source": [
        "#### 59. How to sort an array by the nth column? (★★☆) \n",
        "(**hint**: argsort)"
      ]
    },
    {
      "cell_type": "code",
      "execution_count": null,
      "metadata": {
        "id": "Zh37dbzpB9Mi",
        "colab": {
          "base_uri": "https://localhost:8080/"
        },
        "outputId": "be7c3ec7-28d7-4aed-fbce-26c2abc2235a"
      },
      "outputs": [
        {
          "output_type": "stream",
          "name": "stdout",
          "text": [
            "[[0.87140816 0.466538   0.33535396 0.85941611 0.4856001 ]\n",
            " [0.84200144 0.3139486  0.80489977 0.90799062 0.06809697]\n",
            " [0.06410107 0.00977807 0.60973696 0.22870203 0.13982512]\n",
            " [0.3148281  0.05295681 0.33219939 0.04825141 0.56791732]\n",
            " [0.33541869 0.81965772 0.56087469 0.2394529  0.23566932]]\n",
            "[[0.06410107 0.00977807 0.60973696 0.22870203 0.13982512]\n",
            " [0.3148281  0.05295681 0.33219939 0.04825141 0.56791732]\n",
            " [0.84200144 0.3139486  0.80489977 0.90799062 0.06809697]\n",
            " [0.87140816 0.466538   0.33535396 0.85941611 0.4856001 ]\n",
            " [0.33541869 0.81965772 0.56087469 0.2394529  0.23566932]]\n"
          ]
        },
        {
          "output_type": "execute_result",
          "data": {
            "text/plain": [
              "array([0.466538  , 0.3139486 , 0.00977807, 0.05295681, 0.81965772])"
            ]
          },
          "metadata": {},
          "execution_count": 30
        }
      ],
      "source": [
        "a=np.random.random(25).reshape(5,5)\n",
        "print(a)\n",
        "b=a[a[:,1].argsort()]\n",
        "print(b)\n",
        "a[:,1]"
      ]
    },
    {
      "cell_type": "markdown",
      "metadata": {
        "id": "HphLjs-SB9Mi"
      },
      "source": [
        "#### 60. How to tell if a given 2D array has null columns? (★★☆) \n",
        "(**hint**: any, ~)"
      ]
    },
    {
      "cell_type": "code",
      "execution_count": null,
      "metadata": {
        "id": "vn_UbcwXB9Mj",
        "colab": {
          "base_uri": "https://localhost:8080/"
        },
        "outputId": "0c0f4604-162b-4220-c0d0-36c6a6449989"
      },
      "outputs": [
        {
          "output_type": "stream",
          "name": "stdout",
          "text": [
            "[[False False False False False]\n",
            " [False False False False False]\n",
            " [False False False False False]\n",
            " [False False False False False]\n",
            " [False False False False False]]\n"
          ]
        }
      ],
      "source": [
        "a=np.random.random(25).reshape(5,5)\n",
        "b=np.isnan(a)\n",
        "print(b)"
      ]
    },
    {
      "cell_type": "markdown",
      "metadata": {
        "id": "H9PfFkBJB9Mj"
      },
      "source": [
        "#### 61. Find the nearest value from a given value in an array (★★☆) \n",
        "(**hint**: np.abs, argmin, flat)"
      ]
    },
    {
      "cell_type": "code",
      "execution_count": null,
      "metadata": {
        "id": "AuaERmApB9Mj",
        "colab": {
          "base_uri": "https://localhost:8080/"
        },
        "outputId": "94d509e3-0689-49b0-ee6d-8cde0b9ef67a"
      },
      "outputs": [
        {
          "output_type": "stream",
          "name": "stdout",
          "text": [
            "3\n"
          ]
        }
      ],
      "source": [
        "a=3\n",
        "b=np.arange(15).reshape(3,5)\n",
        "c=b.flat[np.abs(b-a).argmin()]\n",
        "print(c)"
      ]
    },
    {
      "cell_type": "markdown",
      "metadata": {
        "id": "59sSJ977B9Mj"
      },
      "source": [
        "#### 62. Considering two arrays with shape (1,3) and (3,1), how to compute their sum using an iterator? (★★☆) \n",
        "(**hint**: np.nditer)"
      ]
    },
    {
      "cell_type": "code",
      "execution_count": null,
      "metadata": {
        "id": "sE8riPUUB9Mk",
        "colab": {
          "base_uri": "https://localhost:8080/"
        },
        "outputId": "aa0d503a-7ea1-4c51-9b49-5f8b0158d174"
      },
      "outputs": [
        {
          "output_type": "stream",
          "name": "stdout",
          "text": [
            "[[0.89177511 0.31971541 0.22222501]]\n",
            "[[5.76242852]\n",
            " [5.53117206]\n",
            " [5.00430791]]\n",
            "<numpy.nditer object at 0x7f97c43ed0d0>\n",
            "[6.654203631247219]\n",
            "[6.082143933602678]\n",
            "[5.984653534595923]\n",
            "[6.422947166225734]\n",
            "[5.850887468581194]\n",
            "[5.753397069574438]\n",
            "[5.896083022910974]\n",
            "[5.324023325266434]\n",
            "[5.2265329262596785]\n"
          ]
        }
      ],
      "source": [
        "a=np.random.random((1,3))\n",
        "b=5+np.random.random((3,1))\n",
        "print(a)\n",
        "print(b)\n",
        "c=np.nditer([a,b])\n",
        "print(c)\n",
        "for x,y in c:\n",
        "  print([x+y])"
      ]
    },
    {
      "cell_type": "markdown",
      "metadata": {
        "id": "wsGeE7-vB9Mk"
      },
      "source": [
        "#### 63. Create an array class that has a name attribute (★★☆) \n",
        "(**hint**: class method)"
      ]
    },
    {
      "cell_type": "code",
      "execution_count": null,
      "metadata": {
        "id": "f0yxALiXB9Mk"
      },
      "outputs": [],
      "source": [
        ""
      ]
    },
    {
      "cell_type": "markdown",
      "metadata": {
        "id": "xOMoooaIB9Mk"
      },
      "source": [
        "#### 64. Consider a given vector, how to add 1 to each element indexed by a second vector (be careful with repeated indices)? (★★★) \n",
        "(**hint**: np.bincount | np.add.at)"
      ]
    },
    {
      "cell_type": "code",
      "execution_count": null,
      "metadata": {
        "id": "Hq-ifH_hB9Ml",
        "colab": {
          "base_uri": "https://localhost:8080/"
        },
        "outputId": "bd5bc2fa-0af7-4e1c-d911-ace1b2c4e9d9"
      },
      "outputs": [
        {
          "output_type": "stream",
          "name": "stdout",
          "text": [
            "[3 3 3 0 0 2 4 1 2 2 1 1 0 0 0 1 4 3 0 3]\n",
            "[7. 5. 4. 6. 3.]\n",
            "[13.  9.  7. 11.  5.]\n"
          ]
        }
      ],
      "source": [
        "a=np.random.randint(0,5,20)\n",
        "print(a)\n",
        "b=np.ones(5)\n",
        "b+=np.bincount(a,minlength=0)\n",
        "print(b)\n",
        "np.add.at(b,a,1)\n",
        "print(b)"
      ]
    },
    {
      "cell_type": "markdown",
      "metadata": {
        "id": "iZV1EeqGB9Ml"
      },
      "source": [
        "#### 65. How to accumulate elements of a vector (X) to an array (F) based on an index list (I)? (★★★) \n",
        "(**hint**: np.bincount)"
      ]
    },
    {
      "cell_type": "code",
      "execution_count": null,
      "metadata": {
        "id": "oaJPDXbwB9Ml",
        "colab": {
          "base_uri": "https://localhost:8080/"
        },
        "outputId": "1d549338-5548-4d42-9a74-db1ecb2341e8"
      },
      "outputs": [
        {
          "output_type": "stream",
          "name": "stdout",
          "text": [
            "[4. 7. 2. 0. 5. 0. 0. 0. 0. 3.]\n"
          ]
        }
      ],
      "source": [
        "a=[1,2,3,4,5,6]\n",
        "b=[1,2,9,0,4,1]\n",
        "c=np.bincount(b,a)\n",
        "print(c)"
      ]
    },
    {
      "cell_type": "markdown",
      "metadata": {
        "id": "VudbM9tSB9Mm"
      },
      "source": [
        "#### 66. Considering a (w,h,3) image of (dtype=ubyte), compute the number of unique colors (★★★) \n",
        "(**hint**: np.unique)"
      ]
    },
    {
      "cell_type": "code",
      "execution_count": null,
      "metadata": {
        "id": "ceEhcDCaB9Mm",
        "colab": {
          "base_uri": "https://localhost:8080/"
        },
        "outputId": "df5240ab-33e5-43a6-c94a-fad921cda20d"
      },
      "outputs": [
        {
          "output_type": "stream",
          "name": "stdout",
          "text": [
            "[[262144 196608 196608 393216]\n",
            " [131072 327680 458752 196608]\n",
            " [ 65536 196608 327680 131072]\n",
            " [458752 196608 262144 327680]\n",
            " [196608 327680 327680 393216]\n",
            " [262144 393216 327680 327680]\n",
            " [327680 131072 262144 458752]\n",
            " [524288 262144 196608 262144]]\n",
            "8\n"
          ]
        }
      ],
      "source": [
        "w=8\n",
        "h=8\n",
        "a=np.random.randint(0,3,(w,h,4)).astype(np.int16)\n",
        "b=a[:,0]*(256*256)+a[:,1]*(256*256)+a[:,2]*(256*256)+a[:,3]*(256*256)\n",
        "c=len(np.unique(b))\n",
        "print(c)"
      ]
    },
    {
      "cell_type": "markdown",
      "metadata": {
        "id": "SQHsJZhIB9Mm"
      },
      "source": [
        "#### 67. Considering a four dimensions array, how to get sum over the last two axis at once? (★★★) \n",
        "(**hint**: sum(axis=(-2,-1)))"
      ]
    },
    {
      "cell_type": "code",
      "execution_count": null,
      "metadata": {
        "id": "RCBXvjaeB9Mn",
        "colab": {
          "base_uri": "https://localhost:8080/"
        },
        "outputId": "227efa56-3695-4d12-d034-536290383b35"
      },
      "outputs": [
        {
          "output_type": "stream",
          "name": "stdout",
          "text": [
            "[[239 218 158 261]\n",
            " [225 240 250 272]\n",
            " [197 256 223 236]\n",
            " [265 208 193 249]]\n"
          ]
        }
      ],
      "source": [
        "a=np.random.randint(0,30,(4,4,4,4))\n",
        "b=a.sum(axis=(-2,-1))\n",
        "print(b)"
      ]
    },
    {
      "cell_type": "markdown",
      "metadata": {
        "id": "98ylvk9OB9Mn"
      },
      "source": [
        "#### 68. Considering a one-dimensional vector D, how to compute means of subsets of D using a vector S of same size describing subset  indices? (★★★) \n",
        "(**hint**: np.bincount)"
      ]
    },
    {
      "cell_type": "code",
      "execution_count": null,
      "metadata": {
        "id": "0I1fLLp2B9Mn",
        "colab": {
          "base_uri": "https://localhost:8080/"
        },
        "outputId": "0d6e8053-0191-4139-ff3e-a96ecff0136e"
      },
      "outputs": [
        {
          "output_type": "stream",
          "name": "stdout",
          "text": [
            "[0.03119459 3.39394397 2.072283   4.91767366 5.43875044 5.60524721\n",
            " 8.79085291 1.83506598 5.29762235 7.96611637]\n",
            "[6 6 2 0 1 5 7 4 7 7]\n",
            "[ 4.91767366  5.43875044  2.072283    0.          1.83506598  5.60524721\n",
            "  3.42513856 22.05459163]\n",
            "[1 1 1 0 1 1 2 3]\n",
            "[4.91767366 5.43875044 2.072283          nan 1.83506598 5.60524721\n",
            " 1.71256928 7.35153054]\n"
          ]
        },
        {
          "output_type": "stream",
          "name": "stderr",
          "text": [
            "/usr/local/lib/python3.7/dist-packages/ipykernel_launcher.py:9: RuntimeWarning: invalid value encountered in true_divide\n",
            "  if __name__ == '__main__':\n"
          ]
        }
      ],
      "source": [
        "d=np.random.uniform(0,10,10)\n",
        "s=np.random.randint(0,10,10)\n",
        "print(d)\n",
        "print(s)\n",
        "a=np.bincount(s,weights=d)\n",
        "print(a)\n",
        "b=np.bincount(s)\n",
        "print(b)\n",
        "c=a/b\n",
        "print(c)"
      ]
    },
    {
      "cell_type": "markdown",
      "metadata": {
        "id": "w76uTY74B9Mo"
      },
      "source": [
        "#### 69. How to get the diagonal of a dot product? (★★★) \n",
        "(**hint**: np.diag)"
      ]
    },
    {
      "cell_type": "code",
      "execution_count": null,
      "metadata": {
        "id": "YRrpyfzRB9Mp",
        "colab": {
          "base_uri": "https://localhost:8080/"
        },
        "outputId": "15ae5263-a843-4496-a9f9-a5f3b8aab144"
      },
      "outputs": [
        {
          "output_type": "stream",
          "name": "stdout",
          "text": [
            "[107.03115754 149.8097768  157.9053289  155.2616893 ]\n"
          ]
        }
      ],
      "source": [
        "a=np.random.uniform(0,10,(4,4))\n",
        "b=np.random.randint(0,10,(4,4))\n",
        "c=np.diag(np.dot(a,b))\n",
        "print(c)"
      ]
    },
    {
      "cell_type": "markdown",
      "metadata": {
        "id": "zHo5ZwvDB9Mp"
      },
      "source": [
        "#### 70. Consider the vector \\[1, 2, 3, 4, 5\\], how to build a new vector with 3 consecutive zeros interleaved between each value? (★★★) \n",
        "(**hint**: array\\[::4\\])"
      ]
    },
    {
      "cell_type": "code",
      "execution_count": null,
      "metadata": {
        "id": "bVNv81qDB9Mp",
        "colab": {
          "base_uri": "https://localhost:8080/"
        },
        "outputId": "f8878d2c-5147-4561-dd4b-a4921c5a50e4"
      },
      "outputs": [
        {
          "output_type": "stream",
          "name": "stdout",
          "text": [
            "[1. 0. 0. 0. 2. 0. 0. 0. 3. 0. 0. 0. 4. 0. 0. 0. 5.]\n"
          ]
        }
      ],
      "source": [
        "a=[1,2,3,4,5]\n",
        "no_of_zeros=3\n",
        "b=np.zeros(len(a)+((len(a)-1)*no_of_zeros))\n",
        "b[::(no_of_zeros+1)]=a\n",
        "print(b)"
      ]
    },
    {
      "cell_type": "markdown",
      "metadata": {
        "id": "GKgVQdw6B9Mp"
      },
      "source": [
        "#### 71. Consider an array of dimension (5,5,3), how to mulitply it by an array with dimensions (5,5)? (★★★) \n",
        "(**hint**: array\\[:, :, None\\])"
      ]
    },
    {
      "cell_type": "code",
      "execution_count": null,
      "metadata": {
        "collapsed": true,
        "id": "byFQ35QbB9Mq",
        "colab": {
          "base_uri": "https://localhost:8080/"
        },
        "outputId": "63d815b2-5231-4ac3-ddb0-29cb65be6b47"
      },
      "outputs": [
        {
          "output_type": "stream",
          "name": "stdout",
          "text": [
            "[[[101.66514711 152.49772067  29.04718489]\n",
            "  [113.51913569 264.87798329 189.19855949]\n",
            "  [ 82.60899757 396.52318833 214.78339368]\n",
            "  [ 22.72470522 204.52234698 159.07293654]\n",
            "  [336.31899555 269.05519644 168.15949778]]\n",
            "\n",
            " [[246.07850041 233.12700039 116.5635002 ]\n",
            "  [362.48151409  90.62037852 166.13736062]\n",
            "  [285.63586251 403.25062943 352.84430075]\n",
            "  [ 82.75472147 189.15364909  23.64420614]\n",
            "  [166.91516782 185.46129758  18.54612976]]\n",
            "\n",
            " [[ 34.69982125  46.26642833 161.93249917]\n",
            "  [181.00349422  90.50174711 211.17074325]\n",
            "  [ 74.83311657  18.70827914 355.45730369]\n",
            "  [235.83931495  86.88816866 260.66450599]\n",
            "  [167.541742   243.69707927 198.00387691]]\n",
            "\n",
            " [[193.52544196 112.88984115 370.92376376]\n",
            "  [403.45967847 403.45967847 368.37622817]\n",
            "  [ 64.67413119 194.02239356  21.55804373]\n",
            "  [ 61.23065658  36.73839395 257.16875765]\n",
            "  [317.5527589  331.98697521 245.38167733]]\n",
            "\n",
            " [[ 47.36179487  94.72358974  65.12246795]\n",
            "  [339.69713138 212.31070711 268.92689568]\n",
            "  [ 55.2447     349.88309999 128.9043    ]\n",
            "  [387.63349747 274.57372738  80.75697864]\n",
            "  [230.00575072 230.00575072 138.00345043]]]\n"
          ]
        }
      ],
      "source": [
        "a=np.random.randint(1,25,(5,5,3))\n",
        "b=np.random.uniform(5,20,(5,5))\n",
        "c=a*b[:,:,None]\n",
        "print(c)"
      ]
    },
    {
      "cell_type": "markdown",
      "metadata": {
        "id": "YToq4hlgB9Mq"
      },
      "source": [
        "#### 72. How to swap two rows of an array? (★★★) \n",
        "(**hint**: array\\[\\[\\]\\] = array\\[\\[\\]\\])"
      ]
    },
    {
      "cell_type": "code",
      "execution_count": null,
      "metadata": {
        "id": "yfHIowhZB9Mq",
        "colab": {
          "base_uri": "https://localhost:8080/"
        },
        "outputId": "dc459fad-d5bc-4c23-ea5b-8f4fd8ea974e"
      },
      "outputs": [
        {
          "output_type": "stream",
          "name": "stdout",
          "text": [
            "[[15.71576311 10.29235888 10.26166618 19.9359999   8.02488768]\n",
            " [17.11512694  9.92949896  7.7058341   8.48287537  2.44792466]\n",
            " [ 8.5891595   8.8940308  16.35501704  6.7283655  19.64217426]\n",
            " [17.95770272 19.17502713 18.43839481 16.87318305 16.48129349]\n",
            " [ 6.24532112 13.56761735 16.04663398  5.44654186 14.92973485]]\n",
            "[[ 8.5891595   8.8940308  16.35501704  6.7283655  19.64217426]\n",
            " [17.11512694  9.92949896  7.7058341   8.48287537  2.44792466]\n",
            " [15.71576311 10.29235888 10.26166618 19.9359999   8.02488768]\n",
            " [17.95770272 19.17502713 18.43839481 16.87318305 16.48129349]\n",
            " [ 6.24532112 13.56761735 16.04663398  5.44654186 14.92973485]]\n"
          ]
        }
      ],
      "source": [
        "a=np.random.uniform(1,20,(5,5))\n",
        "print(a)\n",
        "a[[0,2]]=a[[2,0]]\n",
        "print(a)"
      ]
    },
    {
      "cell_type": "markdown",
      "metadata": {
        "id": "WQuQQwv6B9Mq"
      },
      "source": [
        "#### 73. Consider a set of 10 triplets describing 10 triangles (with shared vertices), find the set of unique line segments composing all the  triangles (★★★) \n",
        "(**hint**: repeat, np.roll, np.sort, view, np.unique)"
      ]
    },
    {
      "cell_type": "code",
      "execution_count": null,
      "metadata": {
        "id": "lqSmM1-FB9Mr",
        "colab": {
          "base_uri": "https://localhost:8080/"
        },
        "outputId": "7346aee8-3dfb-4bfa-e484-45d77b7c4391"
      },
      "outputs": [
        {
          "output_type": "stream",
          "name": "stdout",
          "text": [
            "[( 1, 53) ( 1, 58) ( 4, 27) ( 4, 99) ( 6, 20) ( 6, 63) ( 9, 37) ( 9, 84)\n",
            " (11, 40) (11, 76) (12, 13) (12, 64) (13, 64) (14, 33) (14, 47) (16, 69)\n",
            " (16, 78) (20, 63) (22, 85) (27, 99) (28, 30) (28, 62) (30, 62) (33, 47)\n",
            " (37, 84) (40, 76) (53, 58) (69, 78) (85, 85)]\n"
          ]
        }
      ],
      "source": [
        "a=np.random.randint(0,100,(10,3))\n",
        "b=np.roll(a.repeat(2,axis=1),-1,axis=1)\n",
        "c=b.reshape(len(b)*3,2)\n",
        "c=np.sort(c,axis=1)\n",
        "d=c.view( dtype=[('p0',c.dtype),('p1',c.dtype)] )\n",
        "d=np.unique(d)\n",
        "print(d)"
      ]
    },
    {
      "cell_type": "markdown",
      "metadata": {
        "id": "EY1jK-QoB9Mr"
      },
      "source": [
        "#### 74. Given an array C that is a bincount, how to produce an array A such that np.bincount(A) == C? (★★★) \n",
        "(**hint**: np.repeat)"
      ]
    },
    {
      "cell_type": "code",
      "execution_count": null,
      "metadata": {
        "id": "FhBcTtMhB9Mr",
        "colab": {
          "base_uri": "https://localhost:8080/"
        },
        "outputId": "5bff6ab0-bb2d-434c-fc26-7532d7d98e03"
      },
      "outputs": [
        {
          "output_type": "stream",
          "name": "stdout",
          "text": [
            "[1 1 2 2 3 3 4]\n"
          ]
        }
      ],
      "source": [
        "c=np.bincount([1,1,2,2,3,3,4])\n",
        "b=np.repeat(np.arange(len(c)),c)\n",
        "print(b)"
      ]
    },
    {
      "cell_type": "markdown",
      "metadata": {
        "id": "MyJOq4NGB9Mr"
      },
      "source": [
        "#### 75. How to compute averages using a sliding window over an array? (★★★) \n",
        "(**hint**: np.cumsum)"
      ]
    },
    {
      "cell_type": "code",
      "execution_count": null,
      "metadata": {
        "id": "2rZMKXJxB9Ms",
        "colab": {
          "base_uri": "https://localhost:8080/"
        },
        "outputId": "056b7e96-c711-40eb-9190-3e3f887cb0a8"
      },
      "outputs": [
        {
          "output_type": "stream",
          "name": "stdout",
          "text": [
            "[ 0  1  2  3  4  5  6  7  8  9 10 11 12 13 14 15 16 17 18 19]\n",
            "[  0   1   3   6  10  15  21  28  36  45  55  66  78  91 105 120 136 153\n",
            " 171 190]\n",
            "[ 1.  2.  3.  4.  5.  6.  7.  8.  9. 10. 11. 12. 13. 14. 15. 16. 17. 18.]\n"
          ]
        }
      ],
      "source": [
        "a=np.arange(20)\n",
        "print(a)\n",
        "b=np.cumsum(a)\n",
        "print(b)\n",
        "b[3:]=b[3:]-b[:-3]\n",
        "b=b[3-1:]/3\n",
        "print(b)"
      ]
    },
    {
      "cell_type": "markdown",
      "metadata": {
        "id": "TOzCCfTZB9Ms"
      },
      "source": [
        "#### 76. Consider a one-dimensional array Z, build a two-dimensional array whose first row is (Z\\[0\\],Z\\[1\\],Z\\[2\\]) and each subsequent row is  shifted by 1 (last row should be (Z\\[-3\\],Z\\[-2\\],Z\\[-1\\]) (★★★) \n",
        "(**hint**: from numpy.lib import stride_tricks)"
      ]
    },
    {
      "cell_type": "code",
      "execution_count": null,
      "metadata": {
        "id": "05KMiLVaB9Ms",
        "colab": {
          "base_uri": "https://localhost:8080/"
        },
        "outputId": "df36dcd2-ef69-46b1-f4e2-98a0155abfb1"
      },
      "outputs": [
        {
          "output_type": "stream",
          "name": "stdout",
          "text": [
            "[0 1 2 3 4 5 6 7 8 9]\n",
            "10\n",
            "8\n",
            "[[0 1 2]\n",
            " [1 2 3]\n",
            " [2 3 4]\n",
            " [3 4 5]\n",
            " [4 5 6]\n",
            " [5 6 7]\n",
            " [6 7 8]\n",
            " [7 8 9]]\n"
          ]
        }
      ],
      "source": [
        "a=(np.arange(10))\n",
        "print(a)\n",
        "from numpy.lib import stride_tricks\n",
        "print(a.size)\n",
        "print(a.itemsize)\n",
        "b=(a.size-3+1,3)\n",
        "c=(a.itemsize,a.itemsize)\n",
        "d=stride_tricks.as_strided(a,b,c)\n",
        "print(d)"
      ]
    },
    {
      "cell_type": "markdown",
      "metadata": {
        "id": "QLoTTrIpB9Ms"
      },
      "source": [
        "#### 77. How to negate a boolean, or to change the sign of a float inplace? (★★★) \n",
        "(**hint**: np.logical_not, np.negative)"
      ]
    },
    {
      "cell_type": "code",
      "execution_count": null,
      "metadata": {
        "id": "Fvxrn9SpB9Ms",
        "colab": {
          "base_uri": "https://localhost:8080/"
        },
        "outputId": "5301d686-e2a6-4715-fc40-7bf292e9952e"
      },
      "outputs": [
        {
          "output_type": "stream",
          "name": "stdout",
          "text": [
            "[1 1 1 0 1 0 0 0 0 0 1 1 1 0 0 1 1 0 0 0 1 1 0 1 0 1 1 1 0 0 1 0 0 1 1 1 0\n",
            " 1 1 1 0 0 1 0 0 0 0 0 1 1]\n",
            "[ 0.29098446 -0.07522198 -0.03150367 -0.2888846  -0.04846247  0.12900597\n",
            "  0.12272688  0.06885863  0.18884808  0.18232872  0.12363218 -0.25340779\n",
            " -0.23807168  0.26032069  0.20723602 -0.03239994 -0.14451549 -0.28493327\n",
            " -0.26025417 -0.29920898  0.04225548  0.11937629  0.14671881  0.1187484\n",
            "  0.20266301 -0.23964958  0.21448218  0.22132187 -0.02878282  0.14978488\n",
            " -0.15565306 -0.24825836 -0.29726296 -0.27570794 -0.05249605 -0.10058551\n",
            "  0.08087358 -0.21803607  0.21619333 -0.22509184  0.29659215  0.13598527\n",
            " -0.02256294  0.00891552 -0.20800913  0.25603789  0.07728834 -0.10637051\n",
            " -0.17959885  0.17863184 -0.15071707  0.29821582  0.12320086 -0.0033191\n",
            " -0.11436081 -0.29573917 -0.2291805   0.22104382  0.17592729 -0.08765921]\n",
            "[-0.29098446  0.07522198  0.03150367  0.2888846   0.04846247 -0.12900597\n",
            " -0.12272688 -0.06885863 -0.18884808 -0.18232872 -0.12363218  0.25340779\n",
            "  0.23807168 -0.26032069 -0.20723602  0.03239994  0.14451549  0.28493327\n",
            "  0.26025417  0.29920898 -0.04225548 -0.11937629 -0.14671881 -0.1187484\n",
            " -0.20266301  0.23964958 -0.21448218 -0.22132187  0.02878282 -0.14978488\n",
            "  0.15565306  0.24825836  0.29726296  0.27570794  0.05249605  0.10058551\n",
            " -0.08087358  0.21803607 -0.21619333  0.22509184 -0.29659215 -0.13598527\n",
            "  0.02256294 -0.00891552  0.20800913 -0.25603789 -0.07728834  0.10637051\n",
            "  0.17959885 -0.17863184  0.15071707 -0.29821582 -0.12320086  0.0033191\n",
            "  0.11436081  0.29573917  0.2291805  -0.22104382 -0.17592729  0.08765921]\n"
          ]
        }
      ],
      "source": [
        "a=np.random.randint(0,2,50)\n",
        "np.logical_not(a,out=a)\n",
        "print(a)\n",
        "b=np.random.uniform(-0.3,0.3,60)\n",
        "print(b)\n",
        "np.negative(b,out=b)\n",
        "print(b)"
      ]
    },
    {
      "cell_type": "markdown",
      "metadata": {
        "id": "nvY0WBlTB9Mt"
      },
      "source": [
        "#### 78. Consider 2 sets of points P0,P1 describing lines (2d) and a point p, how to compute distance from p to each line i  (P0\\[i\\],P1\\[i\\])? (★★★)"
      ]
    },
    {
      "cell_type": "code",
      "execution_count": null,
      "metadata": {
        "id": "I9VmdXDEB9Mt",
        "colab": {
          "base_uri": "https://localhost:8080/"
        },
        "outputId": "8847cb38-aeca-4103-f78c-aea3a1469fad"
      },
      "outputs": [
        {
          "output_type": "stream",
          "name": "stdout",
          "text": [
            "[[-19  -2]\n",
            " [ 15  11]\n",
            " [ 13   9]\n",
            " [  1 -15]\n",
            " [ 10 -12]\n",
            " [ 17 -17]\n",
            " [-13   0]\n",
            " [ 16  -8]\n",
            " [  7 -19]\n",
            " [ 19 -18]]\n"
          ]
        }
      ],
      "source": [
        "a=np.random.randint(-20,20,(10,2))\n",
        "print(a)\n",
        "b=np.random.randint(-10,10,(10,2))\n",
        "p=np.random.randint(-10,10,(10,2))\n"
      ]
    },
    {
      "cell_type": "markdown",
      "metadata": {
        "id": "Xv9HWd87B9Mt"
      },
      "source": [
        "#### 79. Consider 2 sets of points P0,P1 describing lines (2d) and a set of points P, how to compute distance from each point j (P\\[j\\]) to each line i (P0\\[i\\],P1\\[i\\])? (★★★)"
      ]
    },
    {
      "cell_type": "code",
      "source": [
        "def distance(P0, P1, p):\n",
        "    T = P1 - P0\n",
        "    L = (T**2).sum(axis=1)\n",
        "    U = -((P0[:,0]-p[...,0])*T[:,0] + (P0[:,1]-p[...,1])*T[:,1]) / L\n",
        "    print(U)\n",
        "    U = U.reshape(len(U),1)\n",
        "    print(U)\n",
        "    D = P0 + U*T - p\n",
        "    return np.sqrt((D**2).sum(axis=1))\n",
        "\n",
        "P0 = np.random.uniform(-10,10,(10,2))\n",
        "P1 = np.random.uniform(-10,10,(10,2))\n",
        "p  = np.random.uniform(-10,10,( 1,2))\n",
        "print(distance(P0, P1, p))"
      ],
      "metadata": {
        "colab": {
          "base_uri": "https://localhost:8080/"
        },
        "id": "BLsB43vI60iE",
        "outputId": "094da47e-0483-4079-f5d4-626d72f7a1c6"
      },
      "execution_count": null,
      "outputs": [
        {
          "output_type": "stream",
          "name": "stdout",
          "text": [
            "[  2.01697466  -0.29872304   0.71567971  -0.02031127   2.68724093\n",
            "   0.87675492  -0.73739554 -17.79178031   0.44610523   1.25398665]\n",
            "[[  2.01697466]\n",
            " [ -0.29872304]\n",
            " [  0.71567971]\n",
            " [ -0.02031127]\n",
            " [  2.68724093]\n",
            " [  0.87675492]\n",
            " [ -0.73739554]\n",
            " [-17.79178031]\n",
            " [  0.44610523]\n",
            " [  1.25398665]]\n",
            "[ 9.9338462  15.4250107  13.83689198 12.83308487 14.48073649  8.36176514\n",
            "  8.2389251   1.97115613  8.4241962   7.68740664]\n"
          ]
        }
      ]
    },
    {
      "cell_type": "markdown",
      "metadata": {
        "id": "6JZQeqlFB9Mu"
      },
      "source": [
        "#### 80. Consider an arbitrary array, write a function that extract a subpart with a fixed shape and centered on a given element (pad with a `fill` value when necessary) (★★★) \n",
        "(**hint**: minimum, maximum)"
      ]
    },
    {
      "cell_type": "code",
      "execution_count": null,
      "metadata": {
        "id": "Zgkkq21tB9Mu"
      },
      "outputs": [],
      "source": [
        ""
      ]
    },
    {
      "cell_type": "markdown",
      "metadata": {
        "id": "s6JS56rYB9Mu"
      },
      "source": [
        "#### 81. Consider an array Z = \\[1,2,3,4,5,6,7,8,9,10,11,12,13,14\\], how to generate an array R = \\[\\[1,2,3,4\\], \\[2,3,4,5\\], \\[3,4,5,6\\], ..., \\[11,12,13,14\\]\\]? (★★★) \n",
        "(**hint**: stride\\_tricks.as\\_strided)"
      ]
    },
    {
      "cell_type": "code",
      "execution_count": null,
      "metadata": {
        "id": "B8vxFnVbB9Mu",
        "colab": {
          "base_uri": "https://localhost:8080/"
        },
        "outputId": "ab765941-d1ba-4499-9fb7-1c42a2dd33c0"
      },
      "outputs": [
        {
          "output_type": "stream",
          "name": "stdout",
          "text": [
            "[[ 1  2  3  4]\n",
            " [ 2  3  4  5]\n",
            " [ 3  4  5  6]\n",
            " [ 4  5  6  7]\n",
            " [ 5  6  7  8]\n",
            " [ 6  7  8  9]\n",
            " [ 7  8  9 10]\n",
            " [ 8  9 10 11]\n",
            " [ 9 10 11 12]\n",
            " [10 11 12 13]\n",
            " [11 12 13 14]]\n"
          ]
        }
      ],
      "source": [
        "Z=np.array([1,2,3,4,5,6,7,8,9,10,11,12,13,14])\n",
        "from numpy.lib import stride_tricks\n",
        "b=(Z.size-3,4)\n",
        "c=(Z.itemsize,Z.itemsize)\n",
        "d=stride_tricks.as_strided(Z,b,c)\n",
        "print(d)"
      ]
    },
    {
      "cell_type": "markdown",
      "metadata": {
        "id": "qy8POCNSB9Mu"
      },
      "source": [
        "#### 82. Compute a matrix rank (★★★) \n",
        "(**hint**: np.linalg.svd) (suggestion: np.linalg.svd)"
      ]
    },
    {
      "cell_type": "code",
      "execution_count": null,
      "metadata": {
        "id": "ICTasPhXB9Mv",
        "colab": {
          "base_uri": "https://localhost:8080/"
        },
        "outputId": "e114841f-9445-4c2c-a1fc-40053ee60c17"
      },
      "outputs": [
        {
          "output_type": "stream",
          "name": "stdout",
          "text": [
            "10\n"
          ]
        }
      ],
      "source": [
        "a=np.random.uniform(0,1,(10,10))\n",
        "U,S,V=np.linalg.svd(a) \n",
        "b=np.sum(S > 1e-10)\n",
        "print(b)"
      ]
    },
    {
      "cell_type": "markdown",
      "metadata": {
        "id": "9BXmcQl3B9Mv"
      },
      "source": [
        "#### 83. How to find the most frequent value in an array? \n",
        "(**hint**: np.bincount, argmax)"
      ]
    },
    {
      "cell_type": "code",
      "execution_count": null,
      "metadata": {
        "id": "VyxQd9TYB9Mv",
        "colab": {
          "base_uri": "https://localhost:8080/"
        },
        "outputId": "9ee3b566-5d7c-41c7-c1bc-8b5d7892e04b"
      },
      "outputs": [
        {
          "output_type": "stream",
          "name": "stdout",
          "text": [
            "[10 12 14 17 13 19 12 19  8 18]\n",
            "12\n"
          ]
        }
      ],
      "source": [
        "a=np.random.randint(1,20,(10))\n",
        "print(a)\n",
        "b=np.bincount(a).argmax()\n",
        "print(b)"
      ]
    },
    {
      "cell_type": "markdown",
      "metadata": {
        "id": "QP2lHPzRB9Mv"
      },
      "source": [
        "#### 84. Extract all the contiguous 3x3 blocks from a random 10x10 matrix (★★★) \n",
        "(**hint**: stride\\_tricks.as\\_strided)"
      ]
    },
    {
      "cell_type": "code",
      "execution_count": null,
      "metadata": {
        "id": "4EaQCtZtB9Mv",
        "colab": {
          "base_uri": "https://localhost:8080/"
        },
        "outputId": "b9a2eac3-bed9-4bc9-d099-969b785dd5a3"
      },
      "outputs": [
        {
          "output_type": "stream",
          "name": "stdout",
          "text": [
            "(80, 8)\n",
            "8\n",
            "8\n",
            "[[[[13 12 19]\n",
            "   [ 8 12  7]\n",
            "   [19 11 13]]\n",
            "\n",
            "  [[12 19 13]\n",
            "   [12  7 11]\n",
            "   [11 13  2]]\n",
            "\n",
            "  [[19 13  7]\n",
            "   [ 7 11 16]\n",
            "   [13  2 15]]\n",
            "\n",
            "  [[13  7  5]\n",
            "   [11 16 18]\n",
            "   [ 2 15  3]]\n",
            "\n",
            "  [[ 7  5 15]\n",
            "   [16 18  9]\n",
            "   [15  3  7]]\n",
            "\n",
            "  [[ 5 15 17]\n",
            "   [18  9  1]\n",
            "   [ 3  7  1]]\n",
            "\n",
            "  [[15 17  7]\n",
            "   [ 9  1  8]\n",
            "   [ 7  1 16]]\n",
            "\n",
            "  [[17  7 13]\n",
            "   [ 1  8 13]\n",
            "   [ 1 16  5]]]\n",
            "\n",
            "\n",
            " [[[ 8 12  7]\n",
            "   [19 11 13]\n",
            "   [ 7 17  1]]\n",
            "\n",
            "  [[12  7 11]\n",
            "   [11 13  2]\n",
            "   [17  1 12]]\n",
            "\n",
            "  [[ 7 11 16]\n",
            "   [13  2 15]\n",
            "   [ 1 12  5]]\n",
            "\n",
            "  [[11 16 18]\n",
            "   [ 2 15  3]\n",
            "   [12  5  2]]\n",
            "\n",
            "  [[16 18  9]\n",
            "   [15  3  7]\n",
            "   [ 5  2 19]]\n",
            "\n",
            "  [[18  9  1]\n",
            "   [ 3  7  1]\n",
            "   [ 2 19 18]]\n",
            "\n",
            "  [[ 9  1  8]\n",
            "   [ 7  1 16]\n",
            "   [19 18 10]]\n",
            "\n",
            "  [[ 1  8 13]\n",
            "   [ 1 16  5]\n",
            "   [18 10 13]]]\n",
            "\n",
            "\n",
            " [[[19 11 13]\n",
            "   [ 7 17  1]\n",
            "   [ 2 10  3]]\n",
            "\n",
            "  [[11 13  2]\n",
            "   [17  1 12]\n",
            "   [10  3 14]]\n",
            "\n",
            "  [[13  2 15]\n",
            "   [ 1 12  5]\n",
            "   [ 3 14  3]]\n",
            "\n",
            "  [[ 2 15  3]\n",
            "   [12  5  2]\n",
            "   [14  3 17]]\n",
            "\n",
            "  [[15  3  7]\n",
            "   [ 5  2 19]\n",
            "   [ 3 17  3]]\n",
            "\n",
            "  [[ 3  7  1]\n",
            "   [ 2 19 18]\n",
            "   [17  3 12]]\n",
            "\n",
            "  [[ 7  1 16]\n",
            "   [19 18 10]\n",
            "   [ 3 12 19]]\n",
            "\n",
            "  [[ 1 16  5]\n",
            "   [18 10 13]\n",
            "   [12 19  9]]]\n",
            "\n",
            "\n",
            " [[[ 7 17  1]\n",
            "   [ 2 10  3]\n",
            "   [16  4 18]]\n",
            "\n",
            "  [[17  1 12]\n",
            "   [10  3 14]\n",
            "   [ 4 18  7]]\n",
            "\n",
            "  [[ 1 12  5]\n",
            "   [ 3 14  3]\n",
            "   [18  7 15]]\n",
            "\n",
            "  [[12  5  2]\n",
            "   [14  3 17]\n",
            "   [ 7 15 10]]\n",
            "\n",
            "  [[ 5  2 19]\n",
            "   [ 3 17  3]\n",
            "   [15 10 18]]\n",
            "\n",
            "  [[ 2 19 18]\n",
            "   [17  3 12]\n",
            "   [10 18  5]]\n",
            "\n",
            "  [[19 18 10]\n",
            "   [ 3 12 19]\n",
            "   [18  5  4]]\n",
            "\n",
            "  [[18 10 13]\n",
            "   [12 19  9]\n",
            "   [ 5  4  3]]]\n",
            "\n",
            "\n",
            " [[[ 2 10  3]\n",
            "   [16  4 18]\n",
            "   [ 8 17 12]]\n",
            "\n",
            "  [[10  3 14]\n",
            "   [ 4 18  7]\n",
            "   [17 12 11]]\n",
            "\n",
            "  [[ 3 14  3]\n",
            "   [18  7 15]\n",
            "   [12 11  1]]\n",
            "\n",
            "  [[14  3 17]\n",
            "   [ 7 15 10]\n",
            "   [11  1 16]]\n",
            "\n",
            "  [[ 3 17  3]\n",
            "   [15 10 18]\n",
            "   [ 1 16 15]]\n",
            "\n",
            "  [[17  3 12]\n",
            "   [10 18  5]\n",
            "   [16 15  3]]\n",
            "\n",
            "  [[ 3 12 19]\n",
            "   [18  5  4]\n",
            "   [15  3  6]]\n",
            "\n",
            "  [[12 19  9]\n",
            "   [ 5  4  3]\n",
            "   [ 3  6  7]]]\n",
            "\n",
            "\n",
            " [[[16  4 18]\n",
            "   [ 8 17 12]\n",
            "   [ 1  4 13]]\n",
            "\n",
            "  [[ 4 18  7]\n",
            "   [17 12 11]\n",
            "   [ 4 13 15]]\n",
            "\n",
            "  [[18  7 15]\n",
            "   [12 11  1]\n",
            "   [13 15 14]]\n",
            "\n",
            "  [[ 7 15 10]\n",
            "   [11  1 16]\n",
            "   [15 14  1]]\n",
            "\n",
            "  [[15 10 18]\n",
            "   [ 1 16 15]\n",
            "   [14  1 10]]\n",
            "\n",
            "  [[10 18  5]\n",
            "   [16 15  3]\n",
            "   [ 1 10  5]]\n",
            "\n",
            "  [[18  5  4]\n",
            "   [15  3  6]\n",
            "   [10  5  7]]\n",
            "\n",
            "  [[ 5  4  3]\n",
            "   [ 3  6  7]\n",
            "   [ 5  7 15]]]\n",
            "\n",
            "\n",
            " [[[ 8 17 12]\n",
            "   [ 1  4 13]\n",
            "   [18  6 13]]\n",
            "\n",
            "  [[17 12 11]\n",
            "   [ 4 13 15]\n",
            "   [ 6 13  1]]\n",
            "\n",
            "  [[12 11  1]\n",
            "   [13 15 14]\n",
            "   [13  1  3]]\n",
            "\n",
            "  [[11  1 16]\n",
            "   [15 14  1]\n",
            "   [ 1  3  5]]\n",
            "\n",
            "  [[ 1 16 15]\n",
            "   [14  1 10]\n",
            "   [ 3  5  6]]\n",
            "\n",
            "  [[16 15  3]\n",
            "   [ 1 10  5]\n",
            "   [ 5  6 14]]\n",
            "\n",
            "  [[15  3  6]\n",
            "   [10  5  7]\n",
            "   [ 6 14  2]]\n",
            "\n",
            "  [[ 3  6  7]\n",
            "   [ 5  7 15]\n",
            "   [14  2  1]]]\n",
            "\n",
            "\n",
            " [[[ 1  4 13]\n",
            "   [18  6 13]\n",
            "   [10 13  5]]\n",
            "\n",
            "  [[ 4 13 15]\n",
            "   [ 6 13  1]\n",
            "   [13  5  4]]\n",
            "\n",
            "  [[13 15 14]\n",
            "   [13  1  3]\n",
            "   [ 5  4 12]]\n",
            "\n",
            "  [[15 14  1]\n",
            "   [ 1  3  5]\n",
            "   [ 4 12  8]]\n",
            "\n",
            "  [[14  1 10]\n",
            "   [ 3  5  6]\n",
            "   [12  8  7]]\n",
            "\n",
            "  [[ 1 10  5]\n",
            "   [ 5  6 14]\n",
            "   [ 8  7 10]]\n",
            "\n",
            "  [[10  5  7]\n",
            "   [ 6 14  2]\n",
            "   [ 7 10 16]]\n",
            "\n",
            "  [[ 5  7 15]\n",
            "   [14  2  1]\n",
            "   [10 16 15]]]]\n"
          ]
        }
      ],
      "source": [
        "a=np.random.randint(1,20,(10,10))\n",
        "print(a.strides)\n",
        "n=3\n",
        "b=a.shape[0]-n+1\n",
        "c=a.shape[1]-n+1\n",
        "print(b)\n",
        "print(c)\n",
        "d=stride_tricks.as_strided(a,shape=(b,c,n,n),strides=(a.strides+a.strides))\n",
        "print(d)"
      ]
    },
    {
      "cell_type": "markdown",
      "metadata": {
        "id": "h4XglThlB9Mw"
      },
      "source": [
        "#### 85. Create a 2D array subclass such that Z\\[i,j\\] == Z\\[j,i\\] (★★★) \n",
        "(**hint**: class method)"
      ]
    },
    {
      "cell_type": "code",
      "execution_count": null,
      "metadata": {
        "id": "FJ8Sd6m6B9Mw",
        "colab": {
          "base_uri": "https://localhost:8080/"
        },
        "outputId": "3cf9470c-03e1-4590-a0f4-8bbb96ffe9e2"
      },
      "outputs": [
        {
          "output_type": "stream",
          "name": "stdout",
          "text": [
            "[[ 4 14  7  5  3]\n",
            " [14  1 13 10  2]\n",
            " [ 7 13  3 42  1]\n",
            " [ 5 10 42  0  5]\n",
            " [ 3  2  1  5  9]]\n"
          ]
        }
      ],
      "source": [
        "class Symetric(np.ndarray):\n",
        "    def __setitem__(self, index, value):\n",
        "        i,j = index\n",
        "        super(Symetric, self).__setitem__((i,j), value)\n",
        "        super(Symetric, self).__setitem__((j,i), value)\n",
        "\n",
        "def symetric(Z):\n",
        "    return np.asarray(Z + Z.T - np.diag(Z.diagonal())).view(Symetric)\n",
        "\n",
        "S = symetric(np.random.randint(0,10,(5,5)))\n",
        "S[2,3] = 42\n",
        "print(S)"
      ]
    },
    {
      "cell_type": "markdown",
      "metadata": {
        "id": "OiRKRm3JB9Mw"
      },
      "source": [
        "#### 86. Consider a set of p matrices wich shape (n,n) and a set of p vectors with shape (n,1). How to compute the sum of of the p matrix products at once? (result has shape (n,1)) (★★★) \n",
        "(**hint**: np.tensordot)"
      ]
    },
    {
      "cell_type": "code",
      "execution_count": null,
      "metadata": {
        "id": "8CHP-J_ZB9Mw",
        "colab": {
          "base_uri": "https://localhost:8080/"
        },
        "outputId": "65b048da-0256-4118-c23f-e3df1f9897f6"
      },
      "outputs": [
        {
          "output_type": "stream",
          "name": "stdout",
          "text": [
            "[[50.]\n",
            " [50.]\n",
            " [50.]\n",
            " [50.]\n",
            " [50.]]\n"
          ]
        }
      ],
      "source": [
        "a=np.ones((10,5,5))\n",
        "b=np.ones((10,5,1))\n",
        "c=np.tensordot(a,b,axes=[[0,2],[0,1]])\n",
        "print(c)"
      ]
    },
    {
      "cell_type": "markdown",
      "metadata": {
        "id": "3JjvEIerB9Mw"
      },
      "source": [
        "#### 87. Consider a 16x16 array, how to get the block-sum (block size is 4x4)? (★★★) \n",
        "(**hint**: np.add.reduceat)"
      ]
    },
    {
      "cell_type": "code",
      "execution_count": null,
      "metadata": {
        "id": "occhLQdRB9Mx",
        "colab": {
          "base_uri": "https://localhost:8080/"
        },
        "outputId": "8338f712-53c6-4a8f-e7eb-858a00915d27"
      },
      "outputs": [
        {
          "output_type": "stream",
          "name": "stdout",
          "text": [
            "[[23 18 28  7 29 12  6 10 22 12 25 24  1 12  9  2]\n",
            " [ 1  0  9  2 24  9  5 25  3  0  6 27 11 29 26 20]\n",
            " [19  2 22 27 16 26 26  1  1  8  4 19  1 24 17 14]\n",
            " [11 21  1 17 10 12 13 10  6 14 17  4 24 20 20  7]\n",
            " [25 18 20  3  8 16  5  8 24  6  3 13  6 21  1 25]\n",
            " [28 22 20 29 27 16  7 18  7 14 25  9  3 24 12  6]\n",
            " [14  0 27 12 14 24 24  3 14  5 27 22 13  2 22 12]\n",
            " [ 6  3 29  2 29 27 12 29 28  4  8  9  4 23 18  9]\n",
            " [15 28 16  6 26 11 22 16  2  0  5 23 12  4 22  5]\n",
            " [12 10 17 19  1 20 24 19 25 12 21  1  5 27 22  3]\n",
            " [ 1  1 17 27 20 12 12 23 18 29 18  0 14 11 15 20]\n",
            " [18 10 12  4 16 16 17 16 12  9 17 20 21 27 16  5]\n",
            " [20  3 15  2 16 21  6  4  1 11 12 13  4 24 25 28]\n",
            " [29 19 18 15 25  0  1  1 22 28 11  6 12  9 10 23]\n",
            " [ 6 23  6  9 13 10 27 23  2  9 14 21  8 16  1  4]\n",
            " [ 3 18 20 25  4  3  5 27 26 13  3  6 22  5 28 16]]\n",
            "[[208 234 192 237]\n",
            " [258 267 218 201]\n",
            " [213 271 212 229]\n",
            " [231 186 198 235]]\n"
          ]
        }
      ],
      "source": [
        "a=np.random.randint(0,30,(16,16))\n",
        "print(a)\n",
        "c=a.shape[0]\n",
        "d=4\n",
        "b=np.add.reduceat(np.add.reduceat(a,np.arange(0,c,d),axis=0),np.arange(0,c,d),axis=1)\n",
        "print(b)"
      ]
    },
    {
      "cell_type": "markdown",
      "metadata": {
        "id": "aUEnBxuwB9Mx"
      },
      "source": [
        "#### 88. How to implement the Game of Life using numpy arrays? (★★★)"
      ]
    },
    {
      "cell_type": "code",
      "execution_count": null,
      "metadata": {
        "id": "uSBRWo9TB9Mx",
        "colab": {
          "base_uri": "https://localhost:8080/"
        },
        "outputId": "da790a1e-9464-4634-9e4f-8415700a6d23"
      },
      "outputs": [
        {
          "output_type": "stream",
          "name": "stdout",
          "text": [
            "[495 496 497 498 499]\n"
          ]
        }
      ],
      "source": [
        ""
      ]
    },
    {
      "cell_type": "code",
      "source": [
        ""
      ],
      "metadata": {
        "id": "79VluANrJeC7"
      },
      "execution_count": null,
      "outputs": []
    },
    {
      "cell_type": "markdown",
      "metadata": {
        "id": "GDcC_tCaB9Mx"
      },
      "source": [
        "#### 89. How to get the n largest values of an array (★★★) \n",
        "(**hint**: np.argsort | np.argpartition)"
      ]
    },
    {
      "cell_type": "code",
      "execution_count": null,
      "metadata": {
        "id": "4I1CIp0OB9My",
        "colab": {
          "base_uri": "https://localhost:8080/"
        },
        "outputId": "5c5f16d6-c164-42aa-fb74-1db73b02c91b"
      },
      "outputs": [
        {
          "output_type": "stream",
          "name": "stdout",
          "text": [
            "[33 10  7 30  5 36 17  5 32 14  7  1  1 25 25  0 39  5 31 21]\n",
            "[ 0  1  1  5  5  5  7  7 10 14 17 21 25 25 30 31 32 33 36 39]\n",
            "[39]\n"
          ]
        }
      ],
      "source": [
        "a=np.arange(500)\n",
        "np.random.shuffle(a)\n",
        "\n",
        "n=5\n",
        "c=a[np.argsort(a)]\n",
        "print(c[-n:])\n",
        "a=np.random.randint(0,40,20)\n",
        "print(a)\n",
        "b=a[np.argsort(a)]\n",
        "print(b)\n",
        "print(b[len(a)-1:])\n"
      ]
    },
    {
      "cell_type": "markdown",
      "metadata": {
        "id": "WSi3i7oEB9My"
      },
      "source": [
        "#### 90. Given an arbitrary number of vectors, build the cartesian product (every combinations of every item) (★★★) \n",
        "(**hint**: np.indices)"
      ]
    },
    {
      "cell_type": "code",
      "execution_count": null,
      "metadata": {
        "scrolled": true,
        "id": "mwznvgsGB9My",
        "colab": {
          "base_uri": "https://localhost:8080/"
        },
        "outputId": "f805dae4-911f-4490-ace9-89ab2e29a1da"
      },
      "outputs": [
        {
          "output_type": "execute_result",
          "data": {
            "text/plain": [
              "[(0, 15),\n",
              " (0, 16),\n",
              " (0, 17),\n",
              " (0, 18),\n",
              " (0, 19),\n",
              " (0, 20),\n",
              " (0, 21),\n",
              " (0, 22),\n",
              " (0, 23),\n",
              " (0, 24),\n",
              " (0, 25),\n",
              " (0, 26),\n",
              " (0, 27),\n",
              " (0, 28),\n",
              " (0, 29),\n",
              " (0, 30),\n",
              " (0, 31),\n",
              " (0, 32),\n",
              " (0, 33),\n",
              " (0, 34),\n",
              " (0, 35),\n",
              " (0, 36),\n",
              " (0, 37),\n",
              " (0, 38),\n",
              " (0, 39),\n",
              " (0, 40),\n",
              " (0, 41),\n",
              " (0, 42),\n",
              " (0, 43),\n",
              " (0, 44),\n",
              " (0, 45),\n",
              " (0, 46),\n",
              " (0, 47),\n",
              " (0, 48),\n",
              " (0, 49),\n",
              " (1, 15),\n",
              " (1, 16),\n",
              " (1, 17),\n",
              " (1, 18),\n",
              " (1, 19),\n",
              " (1, 20),\n",
              " (1, 21),\n",
              " (1, 22),\n",
              " (1, 23),\n",
              " (1, 24),\n",
              " (1, 25),\n",
              " (1, 26),\n",
              " (1, 27),\n",
              " (1, 28),\n",
              " (1, 29),\n",
              " (1, 30),\n",
              " (1, 31),\n",
              " (1, 32),\n",
              " (1, 33),\n",
              " (1, 34),\n",
              " (1, 35),\n",
              " (1, 36),\n",
              " (1, 37),\n",
              " (1, 38),\n",
              " (1, 39),\n",
              " (1, 40),\n",
              " (1, 41),\n",
              " (1, 42),\n",
              " (1, 43),\n",
              " (1, 44),\n",
              " (1, 45),\n",
              " (1, 46),\n",
              " (1, 47),\n",
              " (1, 48),\n",
              " (1, 49),\n",
              " (2, 15),\n",
              " (2, 16),\n",
              " (2, 17),\n",
              " (2, 18),\n",
              " (2, 19),\n",
              " (2, 20),\n",
              " (2, 21),\n",
              " (2, 22),\n",
              " (2, 23),\n",
              " (2, 24),\n",
              " (2, 25),\n",
              " (2, 26),\n",
              " (2, 27),\n",
              " (2, 28),\n",
              " (2, 29),\n",
              " (2, 30),\n",
              " (2, 31),\n",
              " (2, 32),\n",
              " (2, 33),\n",
              " (2, 34),\n",
              " (2, 35),\n",
              " (2, 36),\n",
              " (2, 37),\n",
              " (2, 38),\n",
              " (2, 39),\n",
              " (2, 40),\n",
              " (2, 41),\n",
              " (2, 42),\n",
              " (2, 43),\n",
              " (2, 44),\n",
              " (2, 45),\n",
              " (2, 46),\n",
              " (2, 47),\n",
              " (2, 48),\n",
              " (2, 49),\n",
              " (3, 15),\n",
              " (3, 16),\n",
              " (3, 17),\n",
              " (3, 18),\n",
              " (3, 19),\n",
              " (3, 20),\n",
              " (3, 21),\n",
              " (3, 22),\n",
              " (3, 23),\n",
              " (3, 24),\n",
              " (3, 25),\n",
              " (3, 26),\n",
              " (3, 27),\n",
              " (3, 28),\n",
              " (3, 29),\n",
              " (3, 30),\n",
              " (3, 31),\n",
              " (3, 32),\n",
              " (3, 33),\n",
              " (3, 34),\n",
              " (3, 35),\n",
              " (3, 36),\n",
              " (3, 37),\n",
              " (3, 38),\n",
              " (3, 39),\n",
              " (3, 40),\n",
              " (3, 41),\n",
              " (3, 42),\n",
              " (3, 43),\n",
              " (3, 44),\n",
              " (3, 45),\n",
              " (3, 46),\n",
              " (3, 47),\n",
              " (3, 48),\n",
              " (3, 49),\n",
              " (4, 15),\n",
              " (4, 16),\n",
              " (4, 17),\n",
              " (4, 18),\n",
              " (4, 19),\n",
              " (4, 20),\n",
              " (4, 21),\n",
              " (4, 22),\n",
              " (4, 23),\n",
              " (4, 24),\n",
              " (4, 25),\n",
              " (4, 26),\n",
              " (4, 27),\n",
              " (4, 28),\n",
              " (4, 29),\n",
              " (4, 30),\n",
              " (4, 31),\n",
              " (4, 32),\n",
              " (4, 33),\n",
              " (4, 34),\n",
              " (4, 35),\n",
              " (4, 36),\n",
              " (4, 37),\n",
              " (4, 38),\n",
              " (4, 39),\n",
              " (4, 40),\n",
              " (4, 41),\n",
              " (4, 42),\n",
              " (4, 43),\n",
              " (4, 44),\n",
              " (4, 45),\n",
              " (4, 46),\n",
              " (4, 47),\n",
              " (4, 48),\n",
              " (4, 49),\n",
              " (5, 15),\n",
              " (5, 16),\n",
              " (5, 17),\n",
              " (5, 18),\n",
              " (5, 19),\n",
              " (5, 20),\n",
              " (5, 21),\n",
              " (5, 22),\n",
              " (5, 23),\n",
              " (5, 24),\n",
              " (5, 25),\n",
              " (5, 26),\n",
              " (5, 27),\n",
              " (5, 28),\n",
              " (5, 29),\n",
              " (5, 30),\n",
              " (5, 31),\n",
              " (5, 32),\n",
              " (5, 33),\n",
              " (5, 34),\n",
              " (5, 35),\n",
              " (5, 36),\n",
              " (5, 37),\n",
              " (5, 38),\n",
              " (5, 39),\n",
              " (5, 40),\n",
              " (5, 41),\n",
              " (5, 42),\n",
              " (5, 43),\n",
              " (5, 44),\n",
              " (5, 45),\n",
              " (5, 46),\n",
              " (5, 47),\n",
              " (5, 48),\n",
              " (5, 49),\n",
              " (6, 15),\n",
              " (6, 16),\n",
              " (6, 17),\n",
              " (6, 18),\n",
              " (6, 19),\n",
              " (6, 20),\n",
              " (6, 21),\n",
              " (6, 22),\n",
              " (6, 23),\n",
              " (6, 24),\n",
              " (6, 25),\n",
              " (6, 26),\n",
              " (6, 27),\n",
              " (6, 28),\n",
              " (6, 29),\n",
              " (6, 30),\n",
              " (6, 31),\n",
              " (6, 32),\n",
              " (6, 33),\n",
              " (6, 34),\n",
              " (6, 35),\n",
              " (6, 36),\n",
              " (6, 37),\n",
              " (6, 38),\n",
              " (6, 39),\n",
              " (6, 40),\n",
              " (6, 41),\n",
              " (6, 42),\n",
              " (6, 43),\n",
              " (6, 44),\n",
              " (6, 45),\n",
              " (6, 46),\n",
              " (6, 47),\n",
              " (6, 48),\n",
              " (6, 49),\n",
              " (7, 15),\n",
              " (7, 16),\n",
              " (7, 17),\n",
              " (7, 18),\n",
              " (7, 19),\n",
              " (7, 20),\n",
              " (7, 21),\n",
              " (7, 22),\n",
              " (7, 23),\n",
              " (7, 24),\n",
              " (7, 25),\n",
              " (7, 26),\n",
              " (7, 27),\n",
              " (7, 28),\n",
              " (7, 29),\n",
              " (7, 30),\n",
              " (7, 31),\n",
              " (7, 32),\n",
              " (7, 33),\n",
              " (7, 34),\n",
              " (7, 35),\n",
              " (7, 36),\n",
              " (7, 37),\n",
              " (7, 38),\n",
              " (7, 39),\n",
              " (7, 40),\n",
              " (7, 41),\n",
              " (7, 42),\n",
              " (7, 43),\n",
              " (7, 44),\n",
              " (7, 45),\n",
              " (7, 46),\n",
              " (7, 47),\n",
              " (7, 48),\n",
              " (7, 49),\n",
              " (8, 15),\n",
              " (8, 16),\n",
              " (8, 17),\n",
              " (8, 18),\n",
              " (8, 19),\n",
              " (8, 20),\n",
              " (8, 21),\n",
              " (8, 22),\n",
              " (8, 23),\n",
              " (8, 24),\n",
              " (8, 25),\n",
              " (8, 26),\n",
              " (8, 27),\n",
              " (8, 28),\n",
              " (8, 29),\n",
              " (8, 30),\n",
              " (8, 31),\n",
              " (8, 32),\n",
              " (8, 33),\n",
              " (8, 34),\n",
              " (8, 35),\n",
              " (8, 36),\n",
              " (8, 37),\n",
              " (8, 38),\n",
              " (8, 39),\n",
              " (8, 40),\n",
              " (8, 41),\n",
              " (8, 42),\n",
              " (8, 43),\n",
              " (8, 44),\n",
              " (8, 45),\n",
              " (8, 46),\n",
              " (8, 47),\n",
              " (8, 48),\n",
              " (8, 49),\n",
              " (9, 15),\n",
              " (9, 16),\n",
              " (9, 17),\n",
              " (9, 18),\n",
              " (9, 19),\n",
              " (9, 20),\n",
              " (9, 21),\n",
              " (9, 22),\n",
              " (9, 23),\n",
              " (9, 24),\n",
              " (9, 25),\n",
              " (9, 26),\n",
              " (9, 27),\n",
              " (9, 28),\n",
              " (9, 29),\n",
              " (9, 30),\n",
              " (9, 31),\n",
              " (9, 32),\n",
              " (9, 33),\n",
              " (9, 34),\n",
              " (9, 35),\n",
              " (9, 36),\n",
              " (9, 37),\n",
              " (9, 38),\n",
              " (9, 39),\n",
              " (9, 40),\n",
              " (9, 41),\n",
              " (9, 42),\n",
              " (9, 43),\n",
              " (9, 44),\n",
              " (9, 45),\n",
              " (9, 46),\n",
              " (9, 47),\n",
              " (9, 48),\n",
              " (9, 49),\n",
              " (10, 15),\n",
              " (10, 16),\n",
              " (10, 17),\n",
              " (10, 18),\n",
              " (10, 19),\n",
              " (10, 20),\n",
              " (10, 21),\n",
              " (10, 22),\n",
              " (10, 23),\n",
              " (10, 24),\n",
              " (10, 25),\n",
              " (10, 26),\n",
              " (10, 27),\n",
              " (10, 28),\n",
              " (10, 29),\n",
              " (10, 30),\n",
              " (10, 31),\n",
              " (10, 32),\n",
              " (10, 33),\n",
              " (10, 34),\n",
              " (10, 35),\n",
              " (10, 36),\n",
              " (10, 37),\n",
              " (10, 38),\n",
              " (10, 39),\n",
              " (10, 40),\n",
              " (10, 41),\n",
              " (10, 42),\n",
              " (10, 43),\n",
              " (10, 44),\n",
              " (10, 45),\n",
              " (10, 46),\n",
              " (10, 47),\n",
              " (10, 48),\n",
              " (10, 49),\n",
              " (11, 15),\n",
              " (11, 16),\n",
              " (11, 17),\n",
              " (11, 18),\n",
              " (11, 19),\n",
              " (11, 20),\n",
              " (11, 21),\n",
              " (11, 22),\n",
              " (11, 23),\n",
              " (11, 24),\n",
              " (11, 25),\n",
              " (11, 26),\n",
              " (11, 27),\n",
              " (11, 28),\n",
              " (11, 29),\n",
              " (11, 30),\n",
              " (11, 31),\n",
              " (11, 32),\n",
              " (11, 33),\n",
              " (11, 34),\n",
              " (11, 35),\n",
              " (11, 36),\n",
              " (11, 37),\n",
              " (11, 38),\n",
              " (11, 39),\n",
              " (11, 40),\n",
              " (11, 41),\n",
              " (11, 42),\n",
              " (11, 43),\n",
              " (11, 44),\n",
              " (11, 45),\n",
              " (11, 46),\n",
              " (11, 47),\n",
              " (11, 48),\n",
              " (11, 49),\n",
              " (12, 15),\n",
              " (12, 16),\n",
              " (12, 17),\n",
              " (12, 18),\n",
              " (12, 19),\n",
              " (12, 20),\n",
              " (12, 21),\n",
              " (12, 22),\n",
              " (12, 23),\n",
              " (12, 24),\n",
              " (12, 25),\n",
              " (12, 26),\n",
              " (12, 27),\n",
              " (12, 28),\n",
              " (12, 29),\n",
              " (12, 30),\n",
              " (12, 31),\n",
              " (12, 32),\n",
              " (12, 33),\n",
              " (12, 34),\n",
              " (12, 35),\n",
              " (12, 36),\n",
              " (12, 37),\n",
              " (12, 38),\n",
              " (12, 39),\n",
              " (12, 40),\n",
              " (12, 41),\n",
              " (12, 42),\n",
              " (12, 43),\n",
              " (12, 44),\n",
              " (12, 45),\n",
              " (12, 46),\n",
              " (12, 47),\n",
              " (12, 48),\n",
              " (12, 49),\n",
              " (13, 15),\n",
              " (13, 16),\n",
              " (13, 17),\n",
              " (13, 18),\n",
              " (13, 19),\n",
              " (13, 20),\n",
              " (13, 21),\n",
              " (13, 22),\n",
              " (13, 23),\n",
              " (13, 24),\n",
              " (13, 25),\n",
              " (13, 26),\n",
              " (13, 27),\n",
              " (13, 28),\n",
              " (13, 29),\n",
              " (13, 30),\n",
              " (13, 31),\n",
              " (13, 32),\n",
              " (13, 33),\n",
              " (13, 34),\n",
              " (13, 35),\n",
              " (13, 36),\n",
              " (13, 37),\n",
              " (13, 38),\n",
              " (13, 39),\n",
              " (13, 40),\n",
              " (13, 41),\n",
              " (13, 42),\n",
              " (13, 43),\n",
              " (13, 44),\n",
              " (13, 45),\n",
              " (13, 46),\n",
              " (13, 47),\n",
              " (13, 48),\n",
              " (13, 49),\n",
              " (14, 15),\n",
              " (14, 16),\n",
              " (14, 17),\n",
              " (14, 18),\n",
              " (14, 19),\n",
              " (14, 20),\n",
              " (14, 21),\n",
              " (14, 22),\n",
              " (14, 23),\n",
              " (14, 24),\n",
              " (14, 25),\n",
              " (14, 26),\n",
              " (14, 27),\n",
              " (14, 28),\n",
              " (14, 29),\n",
              " (14, 30),\n",
              " (14, 31),\n",
              " (14, 32),\n",
              " (14, 33),\n",
              " (14, 34),\n",
              " (14, 35),\n",
              " (14, 36),\n",
              " (14, 37),\n",
              " (14, 38),\n",
              " (14, 39),\n",
              " (14, 40),\n",
              " (14, 41),\n",
              " (14, 42),\n",
              " (14, 43),\n",
              " (14, 44),\n",
              " (14, 45),\n",
              " (14, 46),\n",
              " (14, 47),\n",
              " (14, 48),\n",
              " (14, 49),\n",
              " (15, 15),\n",
              " (15, 16),\n",
              " (15, 17),\n",
              " (15, 18),\n",
              " (15, 19),\n",
              " (15, 20),\n",
              " (15, 21),\n",
              " (15, 22),\n",
              " (15, 23),\n",
              " (15, 24),\n",
              " (15, 25),\n",
              " (15, 26),\n",
              " (15, 27),\n",
              " (15, 28),\n",
              " (15, 29),\n",
              " (15, 30),\n",
              " (15, 31),\n",
              " (15, 32),\n",
              " (15, 33),\n",
              " (15, 34),\n",
              " (15, 35),\n",
              " (15, 36),\n",
              " (15, 37),\n",
              " (15, 38),\n",
              " (15, 39),\n",
              " (15, 40),\n",
              " (15, 41),\n",
              " (15, 42),\n",
              " (15, 43),\n",
              " (15, 44),\n",
              " (15, 45),\n",
              " (15, 46),\n",
              " (15, 47),\n",
              " (15, 48),\n",
              " (15, 49),\n",
              " (16, 15),\n",
              " (16, 16),\n",
              " (16, 17),\n",
              " (16, 18),\n",
              " (16, 19),\n",
              " (16, 20),\n",
              " (16, 21),\n",
              " (16, 22),\n",
              " (16, 23),\n",
              " (16, 24),\n",
              " (16, 25),\n",
              " (16, 26),\n",
              " (16, 27),\n",
              " (16, 28),\n",
              " (16, 29),\n",
              " (16, 30),\n",
              " (16, 31),\n",
              " (16, 32),\n",
              " (16, 33),\n",
              " (16, 34),\n",
              " (16, 35),\n",
              " (16, 36),\n",
              " (16, 37),\n",
              " (16, 38),\n",
              " (16, 39),\n",
              " (16, 40),\n",
              " (16, 41),\n",
              " (16, 42),\n",
              " (16, 43),\n",
              " (16, 44),\n",
              " (16, 45),\n",
              " (16, 46),\n",
              " (16, 47),\n",
              " (16, 48),\n",
              " (16, 49),\n",
              " (17, 15),\n",
              " (17, 16),\n",
              " (17, 17),\n",
              " (17, 18),\n",
              " (17, 19),\n",
              " (17, 20),\n",
              " (17, 21),\n",
              " (17, 22),\n",
              " (17, 23),\n",
              " (17, 24),\n",
              " (17, 25),\n",
              " (17, 26),\n",
              " (17, 27),\n",
              " (17, 28),\n",
              " (17, 29),\n",
              " (17, 30),\n",
              " (17, 31),\n",
              " (17, 32),\n",
              " (17, 33),\n",
              " (17, 34),\n",
              " (17, 35),\n",
              " (17, 36),\n",
              " (17, 37),\n",
              " (17, 38),\n",
              " (17, 39),\n",
              " (17, 40),\n",
              " (17, 41),\n",
              " (17, 42),\n",
              " (17, 43),\n",
              " (17, 44),\n",
              " (17, 45),\n",
              " (17, 46),\n",
              " (17, 47),\n",
              " (17, 48),\n",
              " (17, 49),\n",
              " (18, 15),\n",
              " (18, 16),\n",
              " (18, 17),\n",
              " (18, 18),\n",
              " (18, 19),\n",
              " (18, 20),\n",
              " (18, 21),\n",
              " (18, 22),\n",
              " (18, 23),\n",
              " (18, 24),\n",
              " (18, 25),\n",
              " (18, 26),\n",
              " (18, 27),\n",
              " (18, 28),\n",
              " (18, 29),\n",
              " (18, 30),\n",
              " (18, 31),\n",
              " (18, 32),\n",
              " (18, 33),\n",
              " (18, 34),\n",
              " (18, 35),\n",
              " (18, 36),\n",
              " (18, 37),\n",
              " (18, 38),\n",
              " (18, 39),\n",
              " (18, 40),\n",
              " (18, 41),\n",
              " (18, 42),\n",
              " (18, 43),\n",
              " (18, 44),\n",
              " (18, 45),\n",
              " (18, 46),\n",
              " (18, 47),\n",
              " (18, 48),\n",
              " (18, 49),\n",
              " (19, 15),\n",
              " (19, 16),\n",
              " (19, 17),\n",
              " (19, 18),\n",
              " (19, 19),\n",
              " (19, 20),\n",
              " (19, 21),\n",
              " (19, 22),\n",
              " (19, 23),\n",
              " (19, 24),\n",
              " (19, 25),\n",
              " (19, 26),\n",
              " (19, 27),\n",
              " (19, 28),\n",
              " (19, 29),\n",
              " (19, 30),\n",
              " (19, 31),\n",
              " (19, 32),\n",
              " (19, 33),\n",
              " (19, 34),\n",
              " (19, 35),\n",
              " (19, 36),\n",
              " (19, 37),\n",
              " (19, 38),\n",
              " (19, 39),\n",
              " (19, 40),\n",
              " (19, 41),\n",
              " (19, 42),\n",
              " (19, 43),\n",
              " (19, 44),\n",
              " (19, 45),\n",
              " (19, 46),\n",
              " (19, 47),\n",
              " (19, 48),\n",
              " (19, 49)]"
            ]
          },
          "metadata": {},
          "execution_count": 3
        }
      ],
      "source": [
        "a=np.arange(20)\n",
        "b=15+np.arange(35)\n",
        "import itertools\n",
        "([x for x in itertools.product(a,b)])"
      ]
    },
    {
      "cell_type": "markdown",
      "metadata": {
        "id": "yxNowGx5B9Mz"
      },
      "source": [
        "#### 91. How to create a record array from a regular array? (★★★) \n",
        "(**hint**: np.core.records.fromarrays)"
      ]
    },
    {
      "cell_type": "code",
      "execution_count": null,
      "metadata": {
        "id": "evDnmOnqB9M0",
        "colab": {
          "base_uri": "https://localhost:8080/"
        },
        "outputId": "2f129050-dc69-4a0e-a08b-7694ef7c0601"
      },
      "outputs": [
        {
          "output_type": "stream",
          "name": "stdout",
          "text": [
            "[(b'Hello', 2.5, 3) (b'World', 3.6, 2)]\n"
          ]
        }
      ],
      "source": [
        "a=np.array([(\"Hello\", 2.5, 3),(\"World\", 3.6, 2)])\n",
        "b=np.core.records.fromarrays(a.T,names='col1, col2, col3',formats = 'S8, f8, i8')\n",
        "print(b)"
      ]
    },
    {
      "cell_type": "markdown",
      "metadata": {
        "id": "3VRO9LC4B9M0"
      },
      "source": [
        "#### 92. Consider a large vector Z, compute Z to the power of 3 using 3 different methods (★★★) \n",
        "(**hint**: np.power, \\*, np.einsum)"
      ]
    },
    {
      "cell_type": "code",
      "execution_count": null,
      "metadata": {
        "id": "uvcwOvewB9M0",
        "colab": {
          "base_uri": "https://localhost:8080/",
          "height": 512
        },
        "outputId": "a1eaf0dd-2d0b-4ac1-ef54-fbd68f5fcf7e"
      },
      "outputs": [
        {
          "output_type": "stream",
          "name": "stdout",
          "text": [
            "[1 7 1 0 8 9 1 9 2 1 4 5 6 3 4 6 2 1 0 8 8 2 3 0 6 9 9 0 9 9 3 6 4 5 6 9 1\n",
            " 7 1 9 7 3 8 2 4 3 2 8 7 3]\n",
            "[  1 343   1   0 512 729   1 729   8   1  64 125 216  27  64 216   8   1\n",
            "   0 512 512   8  27   0 216 729 729   0 729 729  27 216  64 125 216 729\n",
            "   1 343   1 729 343  27 512   8  64  27   8 512 343  27]\n",
            "[  1 343   1   0 512 729   1 729   8   1  64 125 216  27  64 216   8   1\n",
            "   0 512 512   8  27   0 216 729 729   0 729 729  27 216  64 125 216 729\n",
            "   1 343   1 729 343  27 512   8  64  27   8 512 343  27]\n"
          ]
        },
        {
          "output_type": "error",
          "ename": "TypeError",
          "evalue": "ignored",
          "traceback": [
            "\u001b[0;31m---------------------------------------------------------------------------\u001b[0m",
            "\u001b[0;31mTypeError\u001b[0m                                 Traceback (most recent call last)",
            "\u001b[0;32m<ipython-input-11-d3feeaf4c6c4>\u001b[0m in \u001b[0;36m<module>\u001b[0;34m()\u001b[0m\n\u001b[1;32m      5\u001b[0m \u001b[0mc\u001b[0m\u001b[0;34m=\u001b[0m\u001b[0mz\u001b[0m\u001b[0;34m**\u001b[0m\u001b[0;36m3\u001b[0m\u001b[0;34m\u001b[0m\u001b[0;34m\u001b[0m\u001b[0m\n\u001b[1;32m      6\u001b[0m \u001b[0mprint\u001b[0m\u001b[0;34m(\u001b[0m\u001b[0mc\u001b[0m\u001b[0;34m)\u001b[0m\u001b[0;34m\u001b[0m\u001b[0;34m\u001b[0m\u001b[0m\n\u001b[0;32m----> 7\u001b[0;31m \u001b[0md\u001b[0m\u001b[0;34m=\u001b[0m\u001b[0mnp\u001b[0m\u001b[0;34m.\u001b[0m\u001b[0meinsum\u001b[0m\u001b[0;34m(\u001b[0m\u001b[0;34m[\u001b[0m\u001b[0mz\u001b[0m\u001b[0;34m]\u001b[0m\u001b[0;34m,\u001b[0m\u001b[0;36m3\u001b[0m\u001b[0;34m)\u001b[0m\u001b[0;34m\u001b[0m\u001b[0;34m\u001b[0m\u001b[0m\n\u001b[0m\u001b[1;32m      8\u001b[0m \u001b[0mprint\u001b[0m\u001b[0;34m(\u001b[0m\u001b[0md\u001b[0m\u001b[0;34m)\u001b[0m\u001b[0;34m\u001b[0m\u001b[0;34m\u001b[0m\u001b[0m\n",
            "\u001b[0;32m<__array_function__ internals>\u001b[0m in \u001b[0;36meinsum\u001b[0;34m(*args, **kwargs)\u001b[0m\n",
            "\u001b[0;32m/usr/local/lib/python3.7/dist-packages/numpy/core/einsumfunc.py\u001b[0m in \u001b[0;36meinsum\u001b[0;34m(out, optimize, *operands, **kwargs)\u001b[0m\n\u001b[1;32m   1357\u001b[0m         \u001b[0;32mif\u001b[0m \u001b[0mspecified_out\u001b[0m\u001b[0;34m:\u001b[0m\u001b[0;34m\u001b[0m\u001b[0;34m\u001b[0m\u001b[0m\n\u001b[1;32m   1358\u001b[0m             \u001b[0mkwargs\u001b[0m\u001b[0;34m[\u001b[0m\u001b[0;34m'out'\u001b[0m\u001b[0;34m]\u001b[0m \u001b[0;34m=\u001b[0m \u001b[0mout\u001b[0m\u001b[0;34m\u001b[0m\u001b[0;34m\u001b[0m\u001b[0m\n\u001b[0;32m-> 1359\u001b[0;31m         \u001b[0;32mreturn\u001b[0m \u001b[0mc_einsum\u001b[0m\u001b[0;34m(\u001b[0m\u001b[0;34m*\u001b[0m\u001b[0moperands\u001b[0m\u001b[0;34m,\u001b[0m \u001b[0;34m**\u001b[0m\u001b[0mkwargs\u001b[0m\u001b[0;34m)\u001b[0m\u001b[0;34m\u001b[0m\u001b[0;34m\u001b[0m\u001b[0m\n\u001b[0m\u001b[1;32m   1360\u001b[0m \u001b[0;34m\u001b[0m\u001b[0m\n\u001b[1;32m   1361\u001b[0m     \u001b[0;31m# Check the kwargs to avoid a more cryptic error later, without having to\u001b[0m\u001b[0;34m\u001b[0m\u001b[0;34m\u001b[0m\u001b[0;34m\u001b[0m\u001b[0m\n",
            "\u001b[0;31mTypeError\u001b[0m: the subscripts for each operand must be a list or a tuple"
          ]
        }
      ],
      "source": [
        "z=np.random.randint(0,10,50)\n",
        "print(z)\n",
        "b=np.power(z,3)\n",
        "print(b)\n",
        "c=z**3\n",
        "print(c)\n",
        "#d=np.einsum(z,3)\n",
        "#print(d)"
      ]
    },
    {
      "cell_type": "markdown",
      "metadata": {
        "id": "RPHTojZjB9M1"
      },
      "source": [
        "#### 93. Consider two arrays A and B of shape (8,3) and (2,2). How to find rows of A that contain elements of each row of B regardless of the order of the elements in B? (★★★) \n",
        "(**hint**: np.where)"
      ]
    },
    {
      "cell_type": "code",
      "execution_count": null,
      "metadata": {
        "id": "f4tbhItgB9M1",
        "colab": {
          "base_uri": "https://localhost:8080/"
        },
        "outputId": "91d10bae-0178-49dd-c978-55d41ec1efcc"
      },
      "outputs": [
        {
          "output_type": "stream",
          "name": "stdout",
          "text": [
            "[[1 2]\n",
            " [3 3]]\n",
            "[[4 4]\n",
            " [0 0]]\n",
            "None\n"
          ]
        }
      ],
      "source": [
        "a=np.random.randint(0,5,(2,2))\n",
        "print(a)\n",
        "b=np.random.randint(0,5,(2,2))\n",
        "print(b)\n",
        "c=np.newaxis\n",
        "#c=np.where(b,a)\n",
        "print(c)"
      ]
    },
    {
      "cell_type": "markdown",
      "metadata": {
        "id": "MqbvWtFTB9M1"
      },
      "source": [
        "#### 94. Considering a 10x3 matrix, extract rows with unequal values (e.g. \\[2,2,3\\]) (★★★)"
      ]
    },
    {
      "cell_type": "code",
      "execution_count": null,
      "metadata": {
        "id": "X69kL_OaB9M1",
        "colab": {
          "base_uri": "https://localhost:8080/"
        },
        "outputId": "02e85b0c-148b-4e19-ad03-5af10f4a033c"
      },
      "outputs": [
        {
          "output_type": "stream",
          "name": "stdout",
          "text": [
            "[[3 3 4]\n",
            " [4 4 0]\n",
            " [4 3 3]\n",
            " [2 2 0]\n",
            " [3 1 4]\n",
            " [0 0 2]\n",
            " [2 1 1]\n",
            " [1 4 2]\n",
            " [0 3 4]]\n"
          ]
        }
      ],
      "source": [
        "a=np.random.randint(0,5,(10,3))\n",
        "b=np.all(a[:,1:]==a[:,:-1],axis=1)\n",
        "c=a[~b]\n",
        "print(c)"
      ]
    },
    {
      "cell_type": "markdown",
      "metadata": {
        "id": "ecpyTjilB9M2"
      },
      "source": [
        "#### 95. Convert a vector of ints into a matrix binary representation (★★★) \n",
        "(**hint**: np.unpackbits)"
      ]
    },
    {
      "cell_type": "code",
      "execution_count": null,
      "metadata": {
        "id": "5D1QYEv4B9M2",
        "colab": {
          "base_uri": "https://localhost:8080/"
        },
        "outputId": "a8950fa0-b3c3-4e14-f0d9-42377481c44b"
      },
      "outputs": [
        {
          "output_type": "stream",
          "name": "stdout",
          "text": [
            "[[0 0 0 0 1 0 1 0]\n",
            " [0 0 0 0 1 0 1 1]\n",
            " [0 0 0 0 1 1 0 0]\n",
            " [0 0 0 0 1 1 0 1]\n",
            " [0 0 0 0 1 1 1 0]\n",
            " [0 0 0 0 1 1 1 1]\n",
            " [0 0 0 1 0 0 0 0]\n",
            " [0 0 0 1 0 0 0 1]\n",
            " [0 0 0 1 0 0 1 0]\n",
            " [0 0 0 1 0 0 1 1]\n",
            " [0 0 0 1 0 1 0 0]\n",
            " [0 0 0 1 0 1 0 1]\n",
            " [0 0 0 1 0 1 1 0]\n",
            " [0 0 0 1 0 1 1 1]\n",
            " [0 0 0 1 1 0 0 0]\n",
            " [0 0 0 1 1 0 0 1]\n",
            " [0 0 0 1 1 0 1 0]\n",
            " [0 0 0 1 1 0 1 1]\n",
            " [0 0 0 1 1 1 0 0]\n",
            " [0 0 0 1 1 1 0 1]\n",
            " [0 0 0 1 1 1 1 0]\n",
            " [0 0 0 1 1 1 1 1]\n",
            " [0 0 1 0 0 0 0 0]\n",
            " [0 0 1 0 0 0 0 1]\n",
            " [0 0 1 0 0 0 1 0]]\n"
          ]
        }
      ],
      "source": [
        "a=10+np.arange(25)\n",
        "b=np.array(a, dtype=np.uint8)\n",
        "print(np.unpackbits(b[:, np.newaxis], axis=1))"
      ]
    },
    {
      "cell_type": "markdown",
      "metadata": {
        "id": "53AZ7wFxB9M2"
      },
      "source": [
        "#### 96. Given a two dimensional array, how to extract unique rows? (★★★) \n",
        "(**hint**: np.ascontiguousarray)"
      ]
    },
    {
      "cell_type": "code",
      "execution_count": null,
      "metadata": {
        "id": "Gt1M975hB9M2",
        "colab": {
          "base_uri": "https://localhost:8080/"
        },
        "outputId": "6c40db94-c308-4af1-d23c-27cbb1e7e47e"
      },
      "outputs": [
        {
          "output_type": "stream",
          "name": "stdout",
          "text": [
            "[[0 0 0]\n",
            " [0 1 0]\n",
            " [1 0 0]\n",
            " [1 1 0]]\n"
          ]
        }
      ],
      "source": [
        "a=np.random.randint(0,2,(6,3))\n",
        "b=np.ascontiguousarray(a).view(np.dtype((np.void, a.dtype.itemsize * a.shape[1])))\n",
        "_, idx = np.unique(b, return_index=True)\n",
        "uZ = a[idx]\n",
        "print(uZ)"
      ]
    },
    {
      "cell_type": "markdown",
      "metadata": {
        "id": "7bYGodpDB9M3"
      },
      "source": [
        "#### 97. Considering 2 vectors A & B, write the einsum equivalent of inner, outer, sum, and mul function (★★★) \n",
        "(**hint**: np.einsum)"
      ]
    },
    {
      "cell_type": "code",
      "execution_count": null,
      "metadata": {
        "id": "YVM893eDB9M3",
        "colab": {
          "base_uri": "https://localhost:8080/"
        },
        "outputId": "4ff0487c-98e8-41ee-fb09-fda683202f98"
      },
      "outputs": [
        {
          "output_type": "execute_result",
          "data": {
            "text/plain": [
              "array([[3.22714273, 4.43144414, 5.43813666, 0.2238399 , 1.43138828,\n",
              "        2.83450454, 1.62516519, 0.25689375, 0.46218811, 2.97864438],\n",
              "       [4.10412725, 5.63570073, 6.91596458, 0.28466898, 1.8203718 ,\n",
              "        3.60478859, 2.0668081 , 0.3267053 , 0.58778894, 3.78809882],\n",
              "       [2.92215158, 4.01263675, 4.92418866, 0.20268521, 1.29611048,\n",
              "        2.56662088, 1.4715739 , 0.23261521, 0.41850759, 2.69713834],\n",
              "       [0.59303287, 0.81434019, 0.9993341 , 0.04113373, 0.26303773,\n",
              "        0.52088008, 0.29864696, 0.04720784, 0.08493357, 0.5473678 ],\n",
              "       [3.1762313 , 4.36153364, 5.35234456, 0.2203086 , 1.40880668,\n",
              "        2.78978737, 1.59952657, 0.25284099, 0.45489662, 2.93165326],\n",
              "       [3.52830617, 4.8449954 , 5.94563448, 0.24472908, 1.5649683 ,\n",
              "        3.09902619, 1.77682886, 0.28086759, 0.50532043, 3.25661745],\n",
              "       [2.60924024, 3.5829535 , 4.39689414, 0.18098117, 1.15731971,\n",
              "        2.29178065, 1.31399407, 0.20770619, 0.37369274, 2.40832198],\n",
              "       [4.6335005 , 6.36262488, 7.80802431, 0.32138717, 2.05517352,\n",
              "        4.06975435, 2.33339655, 0.36884558, 0.66360524, 4.27670896],\n",
              "       [1.96344118, 2.6961559 , 3.30864245, 0.13618749, 0.87087771,\n",
              "        1.72455432, 0.98877444, 0.15629794, 0.28120205, 1.81225112],\n",
              "       [1.56014588, 2.14235932, 2.62903974, 0.10821427, 0.69199744,\n",
              "        1.37032692, 0.78567791, 0.12419399, 0.22344251, 1.44001061]])"
            ]
          },
          "metadata": {},
          "execution_count": 9
        }
      ],
      "source": [
        "A = np.random.uniform(0,3,10)\n",
        "B = np.random.uniform(0,3,10)\n",
        "\n",
        "np.einsum('i->', A)       \n",
        "np.einsum('i,i->i', A, B) \n",
        "np.einsum('i,i', A, B)    \n",
        "np.einsum('i,j->ij', A, B) "
      ]
    },
    {
      "cell_type": "markdown",
      "metadata": {
        "id": "zQNma3bvB9M3"
      },
      "source": [
        "#### 98. Considering a path described by two vectors (X,Y), how to sample it using equidistant samples (★★★)? \n",
        "(**hint**: np.cumsum, np.interp)"
      ]
    },
    {
      "cell_type": "code",
      "execution_count": null,
      "metadata": {
        "collapsed": true,
        "id": "caycJvCnB9M3"
      },
      "outputs": [],
      "source": [
        ""
      ]
    },
    {
      "cell_type": "markdown",
      "metadata": {
        "id": "SDRL4LzAB9M3"
      },
      "source": [
        "#### 99. Given an integer n and a 2D array X, select from X the rows which can be interpreted as draws from a multinomial distribution with n degrees, i.e., the rows which only contain integers and which sum to n. (★★★) \n",
        "(**hint**: np.logical\\_and.reduce, np.mod)"
      ]
    },
    {
      "cell_type": "code",
      "execution_count": null,
      "metadata": {
        "id": "QbDIOwk1B9M3",
        "colab": {
          "base_uri": "https://localhost:8080/"
        },
        "outputId": "1e2ce22e-e9b9-4568-a155-0c8f281645e0"
      },
      "outputs": [
        {
          "output_type": "stream",
          "name": "stdout",
          "text": [
            "[[2. 0. 1. 1.]]\n"
          ]
        }
      ],
      "source": [
        "a=np.array([[1.0, 0.0, 3.0, 8.0],\n",
        "                [2.0, 0.0, 1.0, 1.0],\n",
        "                [1.5, 2.5, 1.0, 0.0]])\n",
        "n=4\n",
        "b=np.logical_and.reduce(np.mod(a, 1) == 0, axis=-1)\n",
        "b&= (a.sum(axis=-1) == n)\n",
        "print(a[b])"
      ]
    },
    {
      "cell_type": "markdown",
      "metadata": {
        "id": "srH2-nYyB9M4"
      },
      "source": [
        "#### 100. Compute bootstrapped 95% confidence intervals for the mean of a 1D array X (i.e., resample the elements of an array with replacement N times, compute the mean of each sample, and then compute percentiles over the means). (★★★) \n",
        "(**hint**: np.percentile)"
      ]
    },
    {
      "cell_type": "code",
      "execution_count": null,
      "metadata": {
        "id": "6c1flE2VB9M4",
        "colab": {
          "base_uri": "https://localhost:8080/"
        },
        "outputId": "f6dddae3-514f-48dd-9a24-5150af9039d0"
      },
      "outputs": [
        {
          "output_type": "stream",
          "name": "stdout",
          "text": [
            "[-0.03382916  0.37037753]\n"
          ]
        }
      ],
      "source": [
        "a=np.random.randn(100)\n",
        "b=1000 \n",
        "c=np.random.randint(0, a.size, (b,a.size))\n",
        "d=a[c].mean(axis=1)\n",
        "e=np.percentile(d, [2.5, 97.5])\n",
        "print(e)"
      ]
    }
  ],
  "metadata": {
    "kernelspec": {
      "display_name": "Python 3",
      "language": "python",
      "name": "python3"
    },
    "language_info": {
      "codemirror_mode": {
        "name": "ipython",
        "version": 3
      },
      "file_extension": ".py",
      "mimetype": "text/x-python",
      "name": "python",
      "nbconvert_exporter": "python",
      "pygments_lexer": "ipython3",
      "version": "3.8.3"
    },
    "colab": {
      "name": "Numpy_tasks.ipynb",
      "provenance": [],
      "collapsed_sections": []
    }
  },
  "nbformat": 4,
  "nbformat_minor": 0
}